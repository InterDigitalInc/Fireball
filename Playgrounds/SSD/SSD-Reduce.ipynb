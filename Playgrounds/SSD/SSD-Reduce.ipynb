{
 "cells": [
  {
   "cell_type": "markdown",
   "metadata": {},
   "source": [
    "# Reducing number of parameters of SSD Model\n",
    "This notebook shows how to use Low-Rank decomposition to reduce the number of parameters of a SSD model. It assumes that a trained model already exist in the ```Models``` directory. Please refer to the notebook [Object Detection with SSD](SSD.ipynb) for more info about using a pretrained SSD model.\n",
    "\n",
    "## Load and evaluate the trained model"
   ]
  },
  {
   "cell_type": "code",
   "execution_count": 1,
   "metadata": {},
   "outputs": [
    {
     "name": "stdout",
     "output_type": "stream",
     "text": [
      "\n",
      "Preparing Coco dataset ... Done.\n",
      "\n",
      "Reading from \"Models/SSD512.fbm\" ... Done.\n",
      "Creating the fireball model \"SSD512\" ... Done.\n",
      "  Processed 5000 Sample. (Time: 55.47 Sec.)                              \n",
      "\n",
      "Evaluating inference results for 5000 images ... \n",
      "  Calculating IoUs - Done (8.2 Seconds)                       \n",
      "  Finding matches - Done (117.2 Seconds)                     \n",
      "  Processing the matches - Done (4.1 Seconds)                    \n",
      "Done (129.5 Seconds)\n",
      "\n",
      "Average Precision (AP):\n",
      "    IoU=0.50:0.95   Area: All      MaxDet: 100  = 0.258\n",
      "    IoU=0.50        Area: All      MaxDet: 100  = 0.476\n",
      "    IoU=0.75        Area: All      MaxDet: 100  = 0.256\n",
      "    IoU=0.50:0.95   Area: Small    MaxDet: 100  = 0.102\n",
      "    IoU=0.50:0.95   Area: Medium   MaxDet: 100  = 0.300\n",
      "    IoU=0.50:0.95   Area: Large    MaxDet: 100  = 0.379\n",
      "Average Recall (AR):\n",
      "    IoU=0.50:0.95   Area: All      MaxDet: 1    = 0.234\n",
      "    IoU=0.50:0.95   Area: All      MaxDet: 10   = 0.359\n",
      "    IoU=0.50:0.95   Area: All      MaxDet: 100  = 0.384\n",
      "    IoU=0.50:0.95   Area: Small    MaxDet: 100  = 0.180\n",
      "    IoU=0.50:0.95   Area: Medium   MaxDet: 100  = 0.433\n",
      "    IoU=0.50:0.95   Area: Large    MaxDet: 100  = 0.528\n"
     ]
    }
   ],
   "source": [
    "from fireball import Model, myPrint\n",
    "from fireball.datasets.coco import CocoDSet\n",
    "gpus = \"upto4\"\n",
    "\n",
    "myPrint('\\nPreparing Coco dataset ... ', False)\n",
    "trainDs,testDs = CocoDSet.makeDatasets('Train,Test', batchSize=128, resolution=512, keepAr=False, numWorkers=4)\n",
    "trainDs.batchSize = 64\n",
    "myPrint('Done.')\n",
    "\n",
    "model = Model.makeFromFile(\"Models/SSD512.fbm\", testDs=testDs, gpus=gpus)\n",
    "model.initSession()\n",
    "results = model.evaluate()"
   ]
  },
  {
   "cell_type": "markdown",
   "metadata": {},
   "source": [
    "## Reducing number of parameters\n",
    "Here we apply Low-Rank Decomposition on different layers of the model to reduce the number of parameters. We first create a list of layers we want to apply Low-Rank Decomposition, specify our tolerance (MSE), and pass this information to the [createLrModel](https://interdigitalinc.github.io/Fireball/html/source/model.html#fireball.model.Model.createLrModel) method. This creates a new fireball model saved to the file ```Models/SSD512R.fbm```."
   ]
  },
  {
   "cell_type": "code",
   "execution_count": 2,
   "metadata": {},
   "outputs": [
    {
     "name": "stdout",
     "output_type": "stream",
     "text": [
      "Now reducing number of network parameters ... \n",
      "  S3_L1_CONV => LR(136), MSE=0.000020, Shape: (1152, 256), Params: 294912->191488 (Reduction: 35.1%)\n",
      "  S3_L2_CONV => LR(136), MSE=0.000020, Shape: (2304, 256), Params: 589824->348160 (Reduction: 41.0%)\n",
      "  S3_L3_CONV => LR(160), MSE=0.000021, Shape: (2304, 256), Params: 589824->409600 (Reduction: 30.6%)\n",
      "  S4_L1_CONV => LR(240), MSE=0.000019, Shape: (2304, 512), Params: 1179648->675840 (Reduction: 42.7%)\n",
      "  S4_L2_CONV => LR(216), MSE=0.000020, Shape: (4608, 512), Params: 2359296->1105920 (Reduction: 53.1%)\n",
      "  S4_L3_CONV => LR(208), MSE=0.000020, Shape: (4608, 512), Params: 2359296->1064960 (Reduction: 54.9%)\n",
      "  S5_L1_CONV => LR(224), MSE=0.000020, Shape: (4608, 512), Params: 2359296->1146880 (Reduction: 51.4%)\n",
      "  S5_L2_CONV => LR(208), MSE=0.000020, Shape: (4608, 512), Params: 2359296->1064960 (Reduction: 54.9%)\n",
      "  S5_L3_CONV => LR(200), MSE=0.000020, Shape: (4608, 512), Params: 2359296->1024000 (Reduction: 56.6%)\n",
      "  S6_L1_CONV => LR(224), MSE=0.000020, Shape: (4608, 1024), Params: 4718592->1261568 (Reduction: 73.3%)\n",
      "  S6_L2_CONV => LR(184), MSE=0.000020, Shape: (1024, 1024), Params: 1048576->376832 (Reduction: 64.1%)\n",
      "  S7_L1_CONV => Cannot Decompose, Shape: (1024, 256), MSE(204)=0.000130>0.000020\n",
      "  S7_L2_CONV => Cannot Decompose, Shape: (2304, 512), MSE(418)=0.000022>0.000020\n",
      "  S8_L2_CONV => Cannot Decompose, Shape: (1152, 256), MSE(209)=0.000044>0.000020\n",
      "  S9_L2_CONV => Cannot Decompose, Shape: (1152, 256), MSE(209)=0.000044>0.000020\n",
      "  S10_L2_CONV => Cannot Decompose, Shape: (1152, 256), MSE(209)=0.000045>0.000020\n",
      "  S12_L1_AFM\n",
      "    FM1/Classes => LR(280), MSE=0.000018, Shape: (4608, 324), Params: 1492992->1380960 (Reduction: 7.5%)\n",
      "    FM1/Boxes => Cannot Decompose, Shape: (4608, 16), Rank(16)>MaxRank(15)\n",
      "    FM2/Classes => LR(392), MSE=0.000020, Shape: (9216, 486), Params: 4478976->3803184 (Reduction: 15.1%)\n",
      "    FM2/Boxes => Cannot Decompose, Shape: (9216, 24), Rank(24)>MaxRank(23)\n",
      "    FM3/Classes => LR(408), MSE=0.000020, Shape: (4608, 486), Params: 2239488->2078352 (Reduction: 7.2%)\n",
      "    FM3/Boxes => Cannot Decompose, Shape: (4608, 24), Rank(24)>MaxRank(23)\n",
      "    FM4/Classes => Cannot Decompose, Shape: (2304, 486), MSE(401)=0.000022>0.000020\n",
      "    FM4/Boxes => Cannot Decompose, Shape: (2304, 24), Rank(24)>MaxRank(23)\n",
      "    FM5/Classes => Cannot Decompose, Shape: (2304, 486), MSE(401)=0.000022>0.000020\n",
      "    FM5/Boxes => Cannot Decompose, Shape: (2304, 24), MSE(23)=0.000023>0.000020\n",
      "    FM6/Classes => Cannot Decompose, Shape: (2304, 324), MSE(284)=0.000023>0.000020\n",
      "    FM6/Boxes => Cannot Decompose, Shape: (2304, 16), MSE(15)=0.000043>0.000020\n",
      "    FM7/Classes => Cannot Decompose, Shape: (2304, 324), MSE(284)=0.000023>0.000020\n",
      "    FM7/Boxes => Cannot Decompose, Shape: (2304, 16), MSE(15)=0.000043>0.000020\n",
      "Total New Parameters: 23,147,860\n",
      "Done. (66.37 Seconds)\n"
     ]
    }
   ],
   "source": [
    "import time, os\n",
    "\n",
    "layers = ['S3_L1_CONV', 'S3_L2_CONV', 'S3_L3_CONV',\n",
    "          'S4_L1_CONV', 'S4_L2_CONV', 'S4_L3_CONV',\n",
    "          'S5_L1_CONV', 'S5_L2_CONV', 'S5_L3_CONV',\n",
    "          'S6_L1_CONV', 'S6_L2_CONV',\n",
    "          'S7_L1_CONV', 'S7_L2_CONV',\n",
    "          'S8_L2_CONV', 'S9_L2_CONV', 'S10_L2_CONV',\n",
    "          'S12_L1_AFM']\n",
    "mse = 0.00002\n",
    "layerParams = [ (layer, mse) for layer in layers]\n",
    "\n",
    "myPrint('Now reducing number of network parameters ... ')\n",
    "t0 = time.time()\n",
    "model.createLrModel(\"Models/SSD512R.fbm\", layerParams)\n",
    "myPrint('Done. (%.2f Seconds)'%(time.time()-t0))"
   ]
  },
  {
   "cell_type": "markdown",
   "metadata": {},
   "source": [
    "Compare the new number of parameters with the original 35,644,468. \n",
    "\n",
    "## Evaluating the new model\n",
    "Let's see the impact of this reduction to the performance of the model."
   ]
  },
  {
   "cell_type": "code",
   "execution_count": 3,
   "metadata": {},
   "outputs": [
    {
     "name": "stdout",
     "output_type": "stream",
     "text": [
      "\n",
      "Reading from \"Models/SSD512R.fbm\" ... Done.\n",
      "Creating the fireball model \"SSD512\" ... Done.\n",
      "\n",
      "Scope            InShape       Comments                 OutShape      Activ.   Post Act.        # of Params\n",
      "---------------  ------------  -----------------------  ------------  -------  ---------------  -----------\n",
      "IN_IMG                         Image Size: 512x512x3    512 512 3     None                      0          \n",
      "S1_L1_CONV       512 512 3     KSP: 3 1 s               512 512 64    ReLU                      1,792      \n",
      "S1_L2_CONV       512 512 64    KSP: 3 1 s               256 256 64    ReLU     MP(KSP):2 2 s    36,928     \n",
      "S2_L1_CONV       256 256 64    KSP: 3 1 s               256 256 128   ReLU                      73,856     \n",
      "S2_L2_CONV       256 256 128   KSP: 3 1 s               128 128 128   ReLU     MP(KSP):2 2 s    147,584    \n",
      "S3_L1_CONV       128 128 128   KSP: 3 1 s, LR136        128 128 256   ReLU                      191,744    \n",
      "S3_L2_CONV       128 128 256   KSP: 3 1 s, LR136        128 128 256   ReLU                      348,416    \n",
      "S3_L3_CONV       128 128 256   KSP: 3 1 s, LR160        64 64 256     ReLU     MP(KSP):2 2 s    409,856    \n",
      "S4_L1_CONV       64 64 256     KSP: 3 1 s, LR240        64 64 512     ReLU                      676,352    \n",
      "S4_L2_CONV       64 64 512     KSP: 3 1 s, LR216        64 64 512     ReLU                      1,106,432  \n",
      "S4_L3_CONV       64 64 512     KSP: 3 1 s, LR208        32 32 512     ReLU     FM->MP           1,065,472  \n",
      "S5_L1_CONV       32 32 512     KSP: 3 1 s, LR224        32 32 512     ReLU                      1,147,392  \n",
      "S5_L2_CONV       32 32 512     KSP: 3 1 s, LR208        32 32 512     ReLU                      1,065,472  \n",
      "S5_L3_CONV       32 32 512     KSP: 3 1 s, LR200        32 32 512     ReLU     MP(KSP):3 1 s    1,024,512  \n",
      "S6_L1_CONV       32 32 512     KSPD: 3 1 s 6, LR224     32 32 1024    ReLU                      1,262,592  \n",
      "S6_L2_CONV       32 32 1024    KSP: 1 1 s, LR184        32 32 1024    ReLU     FM6              377,856    \n",
      "S7_L1_CONV       32 32 1024    KSP: 1 1 s               32 32 256     ReLU                      262,400    \n",
      "S7_L2_CONV       32 32 256     KSP: 3 2 s               16 16 512     ReLU     FM6              1,180,160  \n",
      "S8_L1_CONV       16 16 512     KSP: 1 1 s               16 16 128     ReLU                      65,664     \n",
      "S8_L2_CONV       16 16 128     KSP: 3 2 s               8 8 256       ReLU     FM6              295,168    \n",
      "S9_L1_CONV       8 8 256       KSP: 1 1 s               8 8 128       ReLU                      32,896     \n",
      "S9_L2_CONV       8 8 128       KSP: 3 2 s               4 4 256       ReLU     FM6              295,168    \n",
      "S10_L1_CONV      4 4 256       KSP: 1 1 s               4 4 128       ReLU                      32,896     \n",
      "S10_L2_CONV      4 4 128       KSP: 3 2 s               2 2 256       ReLU     FM4              295,168    \n",
      "S11_L1_CONV      2 2 256       KSP: 1 1 s               2 2 128       ReLU                      32,896     \n",
      "S11_L2_CONV      2 2 128       KSP: 2 2 s               1 1 256       ReLU     FM4              131,328    \n",
      "S12_L1_AFM                     SSD, 7 Feature Maps                    None                      11,587,860 \n",
      "OUT_OBJECT                     24564 Anchor Boxes                     None                      0          \n",
      "---------------------------------------------------------------------------------------------------------\n",
      "                                                                  Total Number of parameters: 23,147,860 \n",
      "  Processed 5000 Sample. (Time: 43.76 Sec.)                              \n",
      "\n",
      "Evaluating inference results for 5000 images ... \n",
      "  Calculating IoUs - Done (7.2 Seconds)                       \n",
      "  Finding matches - Done (84.4 Seconds)                     \n",
      "  Processing the matches - Done (4.0 Seconds)                    \n",
      "Done (95.6 Seconds)\n",
      "\n",
      "Average Precision (AP):\n",
      "    IoU=0.50:0.95   Area: All      MaxDet: 100  = 0.166\n",
      "    IoU=0.50        Area: All      MaxDet: 100  = 0.334\n",
      "    IoU=0.75        Area: All      MaxDet: 100  = 0.147\n",
      "    IoU=0.50:0.95   Area: Small    MaxDet: 100  = 0.049\n",
      "    IoU=0.50:0.95   Area: Medium   MaxDet: 100  = 0.187\n",
      "    IoU=0.50:0.95   Area: Large    MaxDet: 100  = 0.272\n",
      "Average Recall (AR):\n",
      "    IoU=0.50:0.95   Area: All      MaxDet: 1    = 0.177\n",
      "    IoU=0.50:0.95   Area: All      MaxDet: 10   = 0.269\n",
      "    IoU=0.50:0.95   Area: All      MaxDet: 100  = 0.290\n",
      "    IoU=0.50:0.95   Area: Small    MaxDet: 100  = 0.125\n",
      "    IoU=0.50:0.95   Area: Medium   MaxDet: 100  = 0.304\n",
      "    IoU=0.50:0.95   Area: Large    MaxDet: 100  = 0.427\n"
     ]
    }
   ],
   "source": [
    "model = Model.makeFromFile(\"Models/SSD512R.fbm\", testDs=testDs, gpus=gpus)\n",
    "model.printLayersInfo()\n",
    "model.initSession()\n",
    "\n",
    "results = model.evaluate()"
   ]
  },
  {
   "cell_type": "markdown",
   "metadata": {},
   "source": [
    "## Re-train and evaluate\n",
    "Here we make a new model from the ```Models/SSD512R.fbm``` file for training. We then call the [train](https://interdigitalinc.github.io/Fireball/html/source/model.html#fireball.model.Model.train) method of the model to start the training. Note that the re-training can take up to 2 hours on a 4-GPU machine."
   ]
  },
  {
   "cell_type": "code",
   "execution_count": 4,
   "metadata": {
    "scrolled": false
   },
   "outputs": [
    {
     "name": "stdout",
     "output_type": "stream",
     "text": [
      "\n",
      "Reading from \"Models/SSD512R.fbm\" ... Done.\n",
      "Creating the fireball model \"SSD512\" ... Done.\n",
      "\n",
      "Network configuration:\n",
      "  Input:                     Color images of size 512x512\n",
      "  Output:                    A tuple of class labels, boxes, class probabilities, and number of detections.\n",
      "  Network Layers:            28\n",
      "  Tower Devices:             GPU0, GPU1, GPU2, GPU3\n",
      "  Total Network Parameters:  23,147,860\n",
      "  Total Parameter Tensors:   92\n",
      "  Trainable Tensors:         92\n",
      "  Training Samples:          82,783\n",
      "  Test Samples:              5,000\n",
      "  Num Epochs:                5\n",
      "  Batch Size:                64\n",
      "  L2 Reg. Factor:            0     \n",
      "  Global Drop Rate:          0   \n",
      "  Learning Rate: (Exponential Decay)\n",
      "    Initial Value:           0.002        \n",
      "    Final Value:             0.0004       \n",
      "  Optimizer:                 Momentum\n",
      "\n",
      "+--------+---------+---------------+-----------+-------------------+\n",
      "| Epoch  | Batch   | Learning Rate | Loss      | Valid/Test mAP    |\n",
      "+--------+---------+---------------+-----------+-------------------+\n",
      "| 1      | 1293    | 0.00147018384 | 2.0132591 | N/A        23.00% |\n",
      "| 2      | 2587    | 0.0010807201  | 1.8461457 | N/A        24.34% |\n",
      "| 3      | 3881    | 0.00079442852 | 1.7687204 | N/A        24.44% |\n",
      "| 4      | 5175    | 0.00055477902 | 1.7173843 | N/A        24.64% |\n",
      "| 5      | 6469    | 0.0004078135  | 1.682934  | N/A        24.82% |\n",
      "+--------+---------+---------------+-----------+-------------------+\n",
      "Total Training Time: 5161.11 Seconds\n",
      "  Processed 5000 Sample. (Time: 34.24 Sec.)                              \n",
      "\n",
      "Evaluating inference results for 5000 images ... \n",
      "  Calculating IoUs - Done (7.3 Seconds)                       \n",
      "  Finding matches - Done (120.8 Seconds)                     \n",
      "  Processing the matches - Done (4.1 Seconds)                    \n",
      "Done (132.2 Seconds)\n",
      "\n",
      "Average Precision (AP):\n",
      "    IoU=0.50:0.95   Area: All      MaxDet: 100  = 0.248\n",
      "    IoU=0.50        Area: All      MaxDet: 100  = 0.465\n",
      "    IoU=0.75        Area: All      MaxDet: 100  = 0.240\n",
      "    IoU=0.50:0.95   Area: Small    MaxDet: 100  = 0.095\n",
      "    IoU=0.50:0.95   Area: Medium   MaxDet: 100  = 0.293\n",
      "    IoU=0.50:0.95   Area: Large    MaxDet: 100  = 0.365\n",
      "Average Recall (AR):\n",
      "    IoU=0.50:0.95   Area: All      MaxDet: 1    = 0.230\n",
      "    IoU=0.50:0.95   Area: All      MaxDet: 10   = 0.352\n",
      "    IoU=0.50:0.95   Area: All      MaxDet: 100  = 0.376\n",
      "    IoU=0.50:0.95   Area: Small    MaxDet: 100  = 0.171\n",
      "    IoU=0.50:0.95   Area: Medium   MaxDet: 100  = 0.424\n",
      "    IoU=0.50:0.95   Area: Large    MaxDet: 100  = 0.523\n"
     ]
    }
   ],
   "source": [
    "model = Model.makeFromFile(\"Models/SSD512R.fbm\", trainDs=trainDs, testDs=testDs,\n",
    "                           numEpochs=5,\n",
    "                           learningRate=(0.002, 0.0004),   # Exponentially decay from 0.002 to 0.0004\n",
    "                           optimizer=\"Momentum\",\n",
    "                           gpus=gpus)\n",
    "model.printNetConfig()\n",
    "model.initSession()\n",
    "model.train()\n",
    "results = model.evaluate()\n",
    "\n",
    "model.save(\"Models/SSD512RR.fbm\")"
   ]
  },
  {
   "cell_type": "markdown",
   "metadata": {},
   "source": [
    "## Also look at\n",
    "\n",
    "[Pruning SSD Model](SSD-Prune.ipynb)\n",
    "\n",
    "[Quantizing SSD Model](SSD-Quantize.ipynb)\n",
    "\n",
    "[Exporting SSD Model to ONNX](SSD-ONNX.ipynb)\n",
    "\n",
    "[Exporting SSD Model to TensorFlow](SSD-TF.ipynb)\n",
    "\n",
    "[Exporting SSD Model to CoreML](SSD-CoreML.ipynb)\n",
    "\n",
    "________________\n",
    "\n",
    "[Fireball Playgrounds](../Contents.ipynb)\n",
    "\n",
    "[Object Detection with SSD](SSD.ipynb)\n"
   ]
  },
  {
   "cell_type": "code",
   "execution_count": null,
   "metadata": {},
   "outputs": [],
   "source": []
  }
 ],
 "metadata": {
  "kernelspec": {
   "display_name": "Python 3 (ipykernel)",
   "language": "python",
   "name": "python3"
  },
  "language_info": {
   "codemirror_mode": {
    "name": "ipython",
    "version": 3
   },
   "file_extension": ".py",
   "mimetype": "text/x-python",
   "name": "python",
   "nbconvert_exporter": "python",
   "pygments_lexer": "ipython3",
   "version": "3.9.16"
  }
 },
 "nbformat": 4,
 "nbformat_minor": 4
}
