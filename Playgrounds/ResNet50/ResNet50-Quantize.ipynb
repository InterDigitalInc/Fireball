{
 "cells": [
  {
   "cell_type": "markdown",
   "metadata": {},
   "source": [
    "# Quantizing the ResNet50 Model\n",
    "This notebook shows how to quantize a pre-trained Fireball model using Codebook Quantization. It assumes \n",
    "that a trained ```ResNet50``` model already exists in the ```Models``` directory. Please refer to the notebook\n",
    "[Image Classification with ResNet50](ResNet50.ipynb) for more info about using a pretrained ResNet50 model.\n",
    "\n",
    "If you want to quantize a Low-Rank model, you can use [this](ResNet50-Reduce.ipynb) notebook\n",
    "to reduce the number of parameters in ```ResNet50```.\n",
    "\n",
    "Model quantization reduces the size of the model by using less number of bits for each floating \n",
    "point parameter. Fireball uses a codebook quantization method based on K-Means clustering algorithm.\n",
    "\n",
    "[quantizeModel](https://interdigitalinc.github.io/Fireball/html/source/model.html#fireball.model.Model.quantizeModel) is a class method that receives the file names of input and output to the \n",
    "quantization process. It also receives the quantization parameters such as ```minBits```, ```maxBits```, \n",
    "and ```mseUb```.\n",
    "\n",
    "Fireball can create models with 2-bit to 12-bit quantization (Codebook sizes 4 to 4096). For the quantized\n",
    "model to be compatible with [CoreML](https://developer.apple.com/documentation/coreml), we need to make sure the codebook size is a power of 2, less than or equal to 256, and only \"weight\" parameters are quantized (not biases)\n",
    "\n",
    "## Quantizing a pretrained model\n",
    "The code in the following cell quantizes the model specified by ```orgFileName``` and creates a new quantized model.\n",
    "\n",
    "For each parameter tensor of the model, we try quantization bits 2 to 8 and find the best quantization that satisfies the specified MSE value.\n",
    "\n",
    "To get better quantization (smaller model) increase ```mse```; to get better performance (larger model)\n",
    "use a smaller ```mse```."
   ]
  },
  {
   "cell_type": "code",
   "execution_count": 1,
   "metadata": {},
   "outputs": [
    {
     "name": "stdout",
     "output_type": "stream",
     "text": [
      "\n",
      "Reading model parameters from \"Models/ResNet50RRPR.fbm\" ... Done.\n",
      "Quantizing 363 tensors using 20 workers ... \n",
      "   Quantization Parameters:\n",
      "        mseUb .............. 5e-06\n",
      "        pdfFactor .......... 0.1\n",
      "        reuseEmptyClusters . True\n",
      "        weightsOnly ........ True\n",
      "        minBits ............ 3\n",
      "        maxBits ............ 8\n",
      "Quantization complete (4.67 Sec.)).\n",
      "Now saving to \"Models/ResNet50RRPRQ.fbm\" ... Done.\n",
      "\n",
      "Size of Data: 33,070,285 -> 9,970,210 bytes\n",
      "Model File Size: 33,103,189 -> 10,005,727 bytes\n"
     ]
    }
   ],
   "source": [
    "from fireball import Model\n",
    "gpus='0,1,2,3'\n",
    "\n",
    "# orgFileName = \"Models/ResNet50.fbm\"        # Original model\n",
    "# orgFileName = \"Models/ResNet50P.fbm\"       # Pruned\n",
    "# orgFileName = \"Models/ResNet50PR.fbm\"      # Pruned - Retrained\n",
    "# orgFileName = \"Models/ResNet50R.fbm\"       # Reduced\n",
    "# orgFileName = \"Models/ResNet50RP.fbm\"      # Reduced - Pruned\n",
    "# orgFileName = \"Models/ResNet50RP.fbm\"      # Reduced - Pruned - Retrained\n",
    "# orgFileName = \"Models/ResNet50RR.fbm\"      # Reduced - Retrained\n",
    "# orgFileName = \"Models/ResNet50RRP.fbm\"     # Reduced - Retrained - Pruned\n",
    "orgFileName = \"Models/ResNet50RRPR.fbm\"    # Reduced - Retrained - Pruned - Retrained\n",
    "\n",
    "quantizedFileName = orgFileName.replace('.fbm', 'Q.fbm')  # Append 'Q' to the filename for \"Quantized\"\n",
    "\n",
    "# quantizing the model\n",
    "qResults = Model.quantizeModel(orgFileName, quantizedFileName, \n",
    "                               mseUb=0.000005, minBits=3, maxBits=8, reuseEmptyClusters=True)"
   ]
  },
  {
   "cell_type": "markdown",
   "metadata": {},
   "source": [
    "Compare the data size before and after quantization. \n",
    "\n",
    "## Evaluate the quantized model\n",
    "Let's see the impact on model performance."
   ]
  },
  {
   "cell_type": "code",
   "execution_count": 2,
   "metadata": {},
   "outputs": [
    {
     "name": "stdout",
     "output_type": "stream",
     "text": [
      "\n",
      "Reading from \"Models/ResNet50RRPRQ.fbm\" ... Done.\n",
      "Creating the fireball model \"ResNet50\" ... Done.\n",
      "  Processed 50000 Sample. (Time: 71.15 Sec.)                              \n",
      "\n",
      "Observed Accuracy: 0.680320\n",
      "Top-5 Accuracy:   0.886840\n"
     ]
    }
   ],
   "source": [
    "from fireball import Model\n",
    "from fireball.datasets.imagenet import ImageNetDSet\n",
    "\n",
    "# Create the test dataset for evaluation.\n",
    "testDs = ImageNetDSet.makeDatasets('Test', batchSize=256, preProcessing='Crop256Cafe', numWorkers=8)\n",
    "\n",
    "model = Model.makeFromFile(quantizedFileName, testDs=testDs, gpus=gpus)\n",
    "model.initSession()\n",
    "results = model.evaluate(topK=5)"
   ]
  },
  {
   "cell_type": "markdown",
   "metadata": {},
   "source": [
    "## Re-train and evaluate\n",
    "Fireball can re-train the quantized models by modifying the quantization codebooks during the re-training. The following cell creates a \"tune\" dataset by sampling from the training dataset and uses it to \"fine-tune\" the quantized model for one epoch."
   ]
  },
  {
   "cell_type": "code",
   "execution_count": 3,
   "metadata": {},
   "outputs": [
    {
     "name": "stdout",
     "output_type": "stream",
     "text": [
      "ImageNetDSet Dataset Info:\n",
      "    Dataset Name ................................... tune\n",
      "    Dataset Location ............................... /home/shahab/data/ImageNet/\n",
      "    Number of Classes .............................. 1000\n",
      "    Number of Samples .............................. 64000\n",
      "    Sample Shape ................................... (224, 224, 3)\n",
      "    Preprocessing .................................. Crop256Cafe\n",
      "    Number of Workers .............................. 8\n",
      "\n",
      "\n",
      "Reading from \"Models/ResNet50RRPRQ.fbm\" ... Done.\n",
      "Creating the fireball model \"ResNet50\" ... Done.\n",
      "+--------+---------+---------------+-----------+-------------------+\n",
      "| Epoch  | Batch   | Learning Rate | Loss      | Valid/Test Error  |\n",
      "+--------+---------+---------------+-----------+-------------------+\n",
      "| 1      | 249     | 9.9999998e-14 | 0.0799867 | N/A        31.75% |\n",
      "+--------+---------+---------------+-----------+-------------------+\n",
      "Total Training Time: 290.36 Seconds\n",
      "  Processed 50000 Sample. (Time: 55.74 Sec.)                              \n",
      "\n",
      "Observed Accuracy: 0.682460\n",
      "Top-5 Accuracy:   0.889100\n"
     ]
    }
   ],
   "source": [
    "tuneDs = ImageNetDSet.makeDatasets('tune', batchSize=256, preProcessing='Crop256Cafe', numWorkers=8)\n",
    "print(tuneDs)\n",
    "\n",
    "model = Model.makeFromFile(quantizedFileName, trainDs=tuneDs, testDs=testDs,\n",
    "                           numEpochs=1,\n",
    "                           learningRate=1e-13,\n",
    "                           optimizer=\"Adam\",\n",
    "                           gpus=gpus)\n",
    "model.initSession()\n",
    "model.train()\n",
    "results = model.evaluate(topK=5)\n",
    "\n",
    "retrainedFileName = quantizedFileName.replace('.fbm', 'R.fbm')  # Append 'R' to the filename for \"Re-trained\"\n",
    "model.save(retrainedFileName)"
   ]
  },
  {
   "cell_type": "markdown",
   "metadata": {},
   "source": [
    "## Where do I go from here?\n",
    "\n",
    "[Exporting ResNet50 Model to ONNX](ResNet50-ONNX.ipynb)\n",
    "\n",
    "[Exporting ResNet50 Model to TensorFlow](ResNet50-TF.ipynb)\n",
    "\n",
    "[Exporting ResNet50 Model to CoreML](ResNet50-CoreML.ipynb)\n",
    "\n",
    "---\n",
    "\n",
    "[Fireball Playgrounds](../Contents.ipynb)\n",
    "\n",
    "[Image Classification with ResNet50](ResNet50.ipynb)\n",
    "\n",
    "[Reducing number of parameters of ResNet50 Model](ResNet50-Reduce.ipynb)\n",
    "\n",
    "[Pruning ResNet50 Model](ResNet50-Prune.ipynb)\n"
   ]
  },
  {
   "cell_type": "code",
   "execution_count": null,
   "metadata": {},
   "outputs": [],
   "source": []
  }
 ],
 "metadata": {
  "kernelspec": {
   "display_name": "Python 3 (ipykernel)",
   "language": "python",
   "name": "python3"
  },
  "language_info": {
   "codemirror_mode": {
    "name": "ipython",
    "version": 3
   },
   "file_extension": ".py",
   "mimetype": "text/x-python",
   "name": "python",
   "nbconvert_exporter": "python",
   "pygments_lexer": "ipython3",
   "version": "3.9.12"
  }
 },
 "nbformat": 4,
 "nbformat_minor": 4
}
