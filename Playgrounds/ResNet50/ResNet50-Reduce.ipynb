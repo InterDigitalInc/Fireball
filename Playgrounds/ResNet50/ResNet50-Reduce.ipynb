{
 "cells": [
  {
   "cell_type": "markdown",
   "metadata": {},
   "source": [
    "# Reducing number of parameters of ResNet50 Model\n",
    "This notebook shows how to use Low-Rank decomposition to reduce the number of parameters of a ResNet50 model. It assumes that a trained model already exist in the ```Models``` directory. Please refer to the notebook [Image Classification with ResNet50](ResNet50.ipynb) for more info about using a pretrained ResNet50 model.\n",
    "\n",
    "## Load and evaluate the trained model"
   ]
  },
  {
   "cell_type": "code",
   "execution_count": 1,
   "metadata": {},
   "outputs": [
    {
     "name": "stdout",
     "output_type": "stream",
     "text": [
      "\n",
      "Reading from \"Models/ResNet50.fbm\" ... Done.\n",
      "Creating the fireball model \"ResNet50\" ... Done.\n",
      "\n",
      "Scope            InShape       Comments                 OutShape      Activ.   Post Act.        # of Params\n",
      "---------------  ------------  -----------------------  ------------  -------  ---------------  -----------\n",
      "IN_IMG                         Image Size: 224x224x3    224 224 3     None                      0          \n",
      "S1_L1_CONV       224 224 3     KSP: 7 2 3               112 112 64    None                      9,472      \n",
      "S1_L2_BN         112 112 64                             56 56 64      ReLU     MP(KSP):3 2 1    256        \n",
      "S2_L1_RES2       56 56 64      2 Paths, 8 layers        56 56 256     ReLU                      76,928     \n",
      "S2_L2_RES1       56 56 256     2 Paths, 6 layers        56 56 256     ReLU                      71,552     \n",
      "S2_L3_RES1       56 56 256     2 Paths, 6 layers        56 56 256     ReLU                      71,552     \n",
      "S3_L1_RES2       56 56 256     2 Paths, 8 layers        28 28 512     ReLU                      383,232    \n",
      "S3_L2_RES1       28 28 512     2 Paths, 6 layers        28 28 512     ReLU                      282,368    \n",
      "S3_L3_RES1       28 28 512     2 Paths, 6 layers        28 28 512     ReLU                      282,368    \n",
      "S3_L4_RES1       28 28 512     2 Paths, 6 layers        28 28 512     ReLU                      282,368    \n",
      "S4_L1_RES2       28 28 512     2 Paths, 8 layers        14 14 1024    ReLU                      1,520,128  \n",
      "S4_L2_RES1       14 14 1024    2 Paths, 6 layers        14 14 1024    ReLU                      1,121,792  \n",
      "S4_L3_RES1       14 14 1024    2 Paths, 6 layers        14 14 1024    ReLU                      1,121,792  \n",
      "S4_L4_RES1       14 14 1024    2 Paths, 6 layers        14 14 1024    ReLU                      1,121,792  \n",
      "S4_L5_RES1       14 14 1024    2 Paths, 6 layers        14 14 1024    ReLU                      1,121,792  \n",
      "S4_L6_RES1       14 14 1024    2 Paths, 6 layers        14 14 1024    ReLU                      1,121,792  \n",
      "S5_L1_RES2       14 14 1024    2 Paths, 8 layers        7 7 2048      ReLU     DO               6,054,912  \n",
      "S5_L2_RES1       7 7 2048      2 Paths, 6 layers        7 7 2048      ReLU     DO               4,471,808  \n",
      "S5_L3_RES1       7 7 2048      2 Paths, 6 layers        1 1 2048      ReLU     Global Avg       4,471,808  \n",
      "S6_L1_FC         1 1 2048                               1000          None                      2,049,000  \n",
      "OUT_CLASS        1000          1000 classes             1000          None                      0          \n",
      "---------------------------------------------------------------------------------------------------------\n",
      "                                                                  Total Number of parameters: 25,636,712 \n",
      "  Processed 50000 Sample. (Time: 78.77 Sec.)                              \n",
      "\n",
      "Observed Accuracy: 0.747360\n",
      "Top-5 Accuracy:   0.919360\n"
     ]
    }
   ],
   "source": [
    "from fireball import Model\n",
    "from fireball.datasets.imagenet import ImageNetDSet\n",
    "gpus=\"0,1,2,3\"   # Change this to match the GPUs available on your machine\n",
    "\n",
    "testDs = ImageNetDSet.makeDatasets('Test', batchSize=256, preProcessing='Crop256Cafe', numWorkers=8)\n",
    "\n",
    "model = Model.makeFromFile(\"Models/ResNet50.fbm\", testDs=testDs, gpus=gpus)\n",
    "model.printLayersInfo()\n",
    "model.initSession()\n",
    "\n",
    "results = model.evaluate(topK=5)"
   ]
  },
  {
   "cell_type": "markdown",
   "metadata": {},
   "source": [
    "## Reducing number of parameters\n",
    "Here we apply Low-Rank Decomposition to different layers of the model to reduce the number of parameters. We first create a list of layers we want to apply Low-Rank Decomposition, with the MSE value for each layer. We then pass this information to the [createLrModel](https://interdigitalinc.github.io/Fireball/html/source/model.html#fireball.model.Model.createLrModel) method to create a new fireball model saved to the file ```Models/ResNet50R.fbm```."
   ]
  },
  {
   "cell_type": "code",
   "execution_count": 2,
   "metadata": {},
   "outputs": [
    {
     "name": "stdout",
     "output_type": "stream",
     "text": [
      "Now reducing number of network parameters ... \n",
      "  S3_L1_RES2\n",
      "    Ba1 => LR(64), MSE=0.000047, Shape: (256, 128), Params: 32768->24576 (Reduction: 25.0%)\n",
      "    Ba3 => LR(72), MSE=0.000049, Shape: (1152, 128), Params: 147456->92160 (Reduction: 37.5%)\n",
      "    Ba5 => LR(80), MSE=0.000052, Shape: (128, 512), Params: 65536->51200 (Reduction: 21.9%)\n",
      "    Bb1 => LR(88), MSE=0.000057, Shape: (256, 512), Params: 131072->67584 (Reduction: 48.4%)\n",
      "  S3_L2_RES1\n",
      "    Ba1 => LR(64), MSE=0.000054, Shape: (512, 128), Params: 65536->40960 (Reduction: 37.5%)\n",
      "    Ba3 => LR(80), MSE=0.000048, Shape: (1152, 128), Params: 147456->102400 (Reduction: 30.6%)\n",
      "    Ba5 => LR(72), MSE=0.000060, Shape: (128, 512), Params: 65536->46080 (Reduction: 29.7%)\n",
      "  S3_L3_RES1\n",
      "    Ba1 => LR(40), MSE=0.000058, Shape: (512, 128), Params: 65536->25600 (Reduction: 60.9%)\n",
      "    Ba3 => LR(48), MSE=0.000048, Shape: (1152, 128), Params: 147456->61440 (Reduction: 58.3%)\n",
      "    Ba5 => LR(48), MSE=0.000053, Shape: (128, 512), Params: 65536->30720 (Reduction: 53.1%)\n",
      "  S3_L4_RES1\n",
      "    Ba1 => LR(88), MSE=0.000053, Shape: (512, 128), Params: 65536->56320 (Reduction: 14.1%)\n",
      "    Ba3 => LR(80), MSE=0.000054, Shape: (1152, 128), Params: 147456->102400 (Reduction: 30.6%)\n",
      "    Ba5 => LR(72), MSE=0.000053, Shape: (128, 512), Params: 65536->46080 (Reduction: 29.7%)\n",
      "  S4_L1_RES2\n",
      "    Ba1 => LR(88), MSE=0.000055, Shape: (512, 256), Params: 131072->67584 (Reduction: 48.4%)\n",
      "    Ba3 => LR(80), MSE=0.000057, Shape: (2304, 256), Params: 589824->204800 (Reduction: 65.3%)\n",
      "    Ba5 => LR(128), MSE=0.000056, Shape: (256, 1024), Params: 262144->163840 (Reduction: 37.5%)\n",
      "    Bb1 => LR(144), MSE=0.000055, Shape: (512, 1024), Params: 524288->221184 (Reduction: 57.8%)\n",
      "  S4_L2_RES1\n",
      "    Ba1 => LR(72), MSE=0.000054, Shape: (1024, 256), Params: 262144->92160 (Reduction: 64.8%)\n",
      "    Ba3 => LR(80), MSE=0.000053, Shape: (2304, 256), Params: 589824->204800 (Reduction: 65.3%)\n",
      "    Ba5 => LR(120), MSE=0.000053, Shape: (256, 1024), Params: 262144->153600 (Reduction: 41.4%)\n",
      "  S4_L3_RES1\n",
      "    Ba1 => LR(112), MSE=0.000057, Shape: (1024, 256), Params: 262144->143360 (Reduction: 45.3%)\n",
      "    Ba3 => LR(104), MSE=0.000054, Shape: (2304, 256), Params: 589824->266240 (Reduction: 54.9%)\n",
      "    Ba5 => LR(120), MSE=0.000056, Shape: (256, 1024), Params: 262144->153600 (Reduction: 41.4%)\n",
      "  S4_L4_RES1\n",
      "    Ba1 => LR(112), MSE=0.000052, Shape: (1024, 256), Params: 262144->143360 (Reduction: 45.3%)\n",
      "    Ba3 => LR(104), MSE=0.000053, Shape: (2304, 256), Params: 589824->266240 (Reduction: 54.9%)\n",
      "    Ba5 => LR(112), MSE=0.000052, Shape: (256, 1024), Params: 262144->143360 (Reduction: 45.3%)\n",
      "  S4_L5_RES1\n",
      "    Ba1 => LR(144), MSE=0.000053, Shape: (1024, 256), Params: 262144->184320 (Reduction: 29.7%)\n",
      "    Ba3 => LR(96), MSE=0.000056, Shape: (2304, 256), Params: 589824->245760 (Reduction: 58.3%)\n",
      "    Ba5 => LR(112), MSE=0.000057, Shape: (256, 1024), Params: 262144->143360 (Reduction: 45.3%)\n",
      "  S4_L6_RES1\n",
      "    Ba1 => LR(152), MSE=0.000052, Shape: (1024, 256), Params: 262144->194560 (Reduction: 25.8%)\n",
      "    Ba3 => LR(96), MSE=0.000051, Shape: (2304, 256), Params: 589824->245760 (Reduction: 58.3%)\n",
      "    Ba5 => LR(112), MSE=0.000054, Shape: (256, 1024), Params: 262144->143360 (Reduction: 45.3%)\n",
      "  S5_L1_RES2\n",
      "    Ba1 => LR(208), MSE=0.000053, Shape: (1024, 512), Params: 524288->319488 (Reduction: 39.1%)\n",
      "    Ba3 => LR(144), MSE=0.000056, Shape: (4608, 512), Params: 2359296->737280 (Reduction: 68.8%)\n",
      "    Ba5 => LR(248), MSE=0.000056, Shape: (512, 2048), Params: 1048576->634880 (Reduction: 39.5%)\n",
      "    Bb1 => LR(248), MSE=0.000055, Shape: (1024, 2048), Params: 2097152->761856 (Reduction: 63.7%)\n",
      "  S5_L2_RES1\n",
      "    Ba1 => LR(208), MSE=0.000053, Shape: (2048, 512), Params: 1048576->532480 (Reduction: 49.2%)\n",
      "    Ba3 => LR(128), MSE=0.000056, Shape: (4608, 512), Params: 2359296->655360 (Reduction: 72.2%)\n",
      "    Ba5 => LR(208), MSE=0.000056, Shape: (512, 2048), Params: 1048576->532480 (Reduction: 49.2%)\n",
      "  S5_L3_RES1\n",
      "    Ba1 => LR(280), MSE=0.000055, Shape: (2048, 512), Params: 1048576->716800 (Reduction: 31.6%)\n",
      "    Ba3 => LR(104), MSE=0.000054, Shape: (4608, 512), Params: 2359296->532480 (Reduction: 77.4%)\n",
      "    Ba5 => LR(216), MSE=0.000053, Shape: (512, 2048), Params: 1048576->552960 (Reduction: 47.3%)\n",
      "  S6_L1_FC => LR(400), MSE=0.000223, Params: 2048000->1219200 (Reduction: 40.5%)\n",
      "Total New Parameters: 11,680,232\n",
      "Done. (40.87 Seconds)\n"
     ]
    }
   ],
   "source": [
    "import time\n",
    "\n",
    "# Here we use MSE=0.000055 for layers \"S3_L1_RES2\" through \"S5_L3_RES1\" and \n",
    "# use the fixed rank 400 for the last fully connected layer \"S6_L1_FC\":    \n",
    "layerParams = [('S3_L1_RES2', 0.000055), ('S3_L2_RES1', 0.000055), ('S3_L3_RES1', 0.000055),\n",
    "               ('S3_L4_RES1', 0.000055), ('S4_L1_RES2', 0.000055), ('S4_L2_RES1', 0.000055),\n",
    "               ('S4_L3_RES1', 0.000055), ('S4_L4_RES1', 0.000055), ('S4_L5_RES1', 0.000055),\n",
    "               ('S4_L6_RES1', 0.000055), ('S5_L1_RES2', 0.000055), ('S5_L2_RES1', 0.000055), \n",
    "               ('S5_L3_RES1', 0.000055), ('S6_L1_FC', 400)]\n",
    "\n",
    "print('Now reducing number of network parameters ... ')\n",
    "t0 = time.time()\n",
    "model.createLrModel(\"Models/ResNet50R.fbm\", layerParams)\n",
    "print('Done. (%.2f Seconds)'%(time.time()-t0))"
   ]
  },
  {
   "cell_type": "markdown",
   "metadata": {},
   "source": [
    "Compare the new number of parameters with the original 25,636,712. \n",
    "\n",
    "## Evaluating the new model\n",
    "Let's see the impact of this reduction to the performance of the model."
   ]
  },
  {
   "cell_type": "code",
   "execution_count": 3,
   "metadata": {},
   "outputs": [
    {
     "name": "stdout",
     "output_type": "stream",
     "text": [
      "\n",
      "Reading from \"Models/ResNet50R.fbm\" ... Done.\n",
      "Creating the fireball model \"ResNet50\" ... Done.\n",
      "\n",
      "Scope            InShape       Comments                 OutShape      Activ.   Post Act.        # of Params\n",
      "---------------  ------------  -----------------------  ------------  -------  ---------------  -----------\n",
      "IN_IMG                         Image Size: 224x224x3    224 224 3     None                      0          \n",
      "S1_L1_CONV       224 224 3     KSP: 7 2 3               112 112 64    None                      9,472      \n",
      "S1_L2_BN         112 112 64                             56 56 64      ReLU     MP(KSP):3 2 1    256        \n",
      "S2_L1_RES2       56 56 64      2 Paths, 8 layers        56 56 256     ReLU                      76,928     \n",
      "S2_L2_RES1       56 56 256     2 Paths, 6 layers        56 56 256     ReLU                      71,552     \n",
      "S2_L3_RES1       56 56 256     2 Paths, 6 layers        56 56 256     ReLU                      71,552     \n",
      "S3_L1_RES2c1     56 56 256     2 Paths, 8 layers        28 28 512     ReLU                      241,920    \n",
      "S3_L2_RES1c2     28 28 512     2 Paths, 6 layers        28 28 512     ReLU                      193,280    \n",
      "S3_L3_RES1c3     28 28 512     2 Paths, 6 layers        28 28 512     ReLU                      121,600    \n",
      "S3_L4_RES1c4     28 28 512     2 Paths, 6 layers        28 28 512     ReLU                      208,640    \n",
      "S4_L1_RES2c5     28 28 512     2 Paths, 8 layers        14 14 1024    ReLU                      670,208    \n",
      "S4_L2_RES1c6     14 14 1024    2 Paths, 6 layers        14 14 1024    ReLU                      458,240    \n",
      "S4_L3_RES1c7     14 14 1024    2 Paths, 6 layers        14 14 1024    ReLU                      570,880    \n",
      "S4_L4_RES1c8     14 14 1024    2 Paths, 6 layers        14 14 1024    ReLU                      560,640    \n",
      "S4_L5_RES1c9     14 14 1024    2 Paths, 6 layers        14 14 1024    ReLU                      581,120    \n",
      "S4_L6_RES1c10    14 14 1024    2 Paths, 6 layers        14 14 1024    ReLU                      591,360    \n",
      "S5_L1_RES2c11    14 14 1024    2 Paths, 8 layers        7 7 2048      ReLU     DO               2,479,104  \n",
      "S5_L2_RES1c12    7 7 2048      2 Paths, 6 layers        7 7 2048      ReLU     DO               1,735,680  \n",
      "S5_L3_RES1c13    7 7 2048      2 Paths, 6 layers        1 1 2048      ReLU     Global Avg       1,817,600  \n",
      "S6_L1_FC         1 1 2048      LR400                    1000          None                      1,220,200  \n",
      "OUT_CLASS        1000          1000 classes             1000          None                      0          \n",
      "---------------------------------------------------------------------------------------------------------\n",
      "                                                                  Total Number of parameters: 11,680,232 \n",
      "  Processed 50000 Sample. (Time: 75.17 Sec.)                              \n",
      "\n",
      "Observed Accuracy: 0.599280\n",
      "Top-5 Accuracy:   0.843740\n"
     ]
    }
   ],
   "source": [
    "model = Model.makeFromFile(\"Models/ResNet50R.fbm\", testDs=testDs, gpus=gpus)\n",
    "model.printLayersInfo()\n",
    "model.initSession()\n",
    "results = model.evaluate(topK=5)"
   ]
  },
  {
   "cell_type": "markdown",
   "metadata": {},
   "source": [
    "## Re-train and evaluate\n",
    "The following cell creates a \"tune\" dataset by sampling from the training dataset and uses it to re-train the  model for 10 epochs. For better results we could also use the whole training dataset for re-training.\n",
    "\n",
    "If the trained model ```ResNet50RR.fbm``` is already available in the ```Models``` directory, this cell shows the results of last training. If you want to force it to do the training again, you can un-remark the lines at the beginning of the cell to delete the existing file. Note that the re-training can take up to 1 hour on a 4-GPU machine (Using the whole training dataset it could take up to 10 hours)."
   ]
  },
  {
   "cell_type": "code",
   "execution_count": 4,
   "metadata": {},
   "outputs": [
    {
     "name": "stdout",
     "output_type": "stream",
     "text": [
      "ImageNetDSet Dataset Info:\n",
      "    Dataset Name ................................... tune\n",
      "    Dataset Location ............................... /home/shahab/data/ImageNet/\n",
      "    Number of Classes .............................. 1000\n",
      "    Number of Samples .............................. 64000\n",
      "    Sample Shape ................................... (224, 224, 3)\n",
      "    Preprocessing .................................. Crop256Cafe\n",
      "    Number of Workers .............................. 8\n",
      "\n",
      "\n",
      "Reading from \"Models/ResNet50R.fbm\" ... Done.\n",
      "Creating the fireball model \"ResNet50\" ... Done.\n",
      "\n",
      "Network configuration:\n",
      "  Input:                     Color images of size 224x224\n",
      "  Output:                    Probability distributions for 1000 classes.\n",
      "  Network Layers:            21\n",
      "  Tower Devices:             GPU0, GPU1, GPU2, GPU3\n",
      "  Total Network Parameters:  11,680,232\n",
      "  Total Parameter Tensors:   363\n",
      "  Trainable Tensors:         257\n",
      "  Training Samples:          64,000\n",
      "  Test Samples:              50,000\n",
      "  Num Epochs:                10\n",
      "  Batch Size:                256\n",
      "  L2 Reg. Factor:            0     \n",
      "  Global Drop Rate:          0.1 \n",
      "  Learning Rate: (Exponential Decay)\n",
      "    Initial Value:           0.00005      \n",
      "    Final Value:             0.000005     \n",
      "  Optimizer:                 Adam\n",
      "  Save model information to: Models/ResNet50RR.fbm\n",
      "\n",
      "+--------+---------+---------------+-----------+-------------------+\n",
      "| Epoch  | Batch   | Learning Rate | Loss      | Valid/Test Error  |\n",
      "+--------+---------+---------------+-----------+-------------------+\n",
      "| 1      | 249     | 0.00004072531 | 0.8841543 | N/A        30.62% |\n",
      "| 2      | 499     | 0.00003151246 | 0.5529796 | N/A        30.54% |\n",
      "| 3      | 749     | 0.0000256671  | 0.4055676 | N/A        30.45% |\n",
      "| 4      | 999     | 0.00001986071 | 0.3168875 | N/A        30.30% |\n",
      "| 5      | 1249    | 0.00001617667 | 0.260209  | N/A        30.58% |\n",
      "| 6      | 1499    | 0.0000125172  | 0.2233813 | N/A        30.50% |\n",
      "| 7      | 1749    | 0.00001019534 | 0.1972941 | N/A        30.52% |\n",
      "| 8      | 1999    | 0.00000788896 | 0.1786339 | N/A        30.62% |\n",
      "| 9      | 2249    | 0.0000064256  | 0.1632503 | N/A        30.65% |\n",
      "| 10     | 2499    | 0.00000497201 | 0.1534955 | N/A        30.66% |\n",
      "+--------+---------+---------------+-----------+-------------------+\n",
      "Total Training Time: 2582.88 Seconds\n",
      "  Processed 50000 Sample. (Time: 55.35 Sec.)                              \n",
      "\n",
      "Observed Accuracy: 0.693420\n",
      "Top-5 Accuracy:   0.895060\n"
     ]
    }
   ],
   "source": [
    "# Un-remark the following line if you want to delete the existing re-trained model and re-train it again.\n",
    "# import os\n",
    "# if os.path.exists( \"Models/ResNet50RR.fbm\" ): os.remove( \"Models/ResNet50RR.fbm\" )\n",
    "tuneDs = ImageNetDSet.makeDatasets('tune', batchSize=256, preProcessing='Crop256Cafe', numWorkers=8)\n",
    "print(tuneDs)\n",
    "\n",
    "model = Model.makeFromFile(\"Models/ResNet50R.fbm\", trainDs=tuneDs, testDs=testDs,\n",
    "                           numEpochs=10,\n",
    "                           learningRate=(0.00005, 0.000005),\n",
    "                           dropOutKeep = .9,\n",
    "                           optimizer=\"Adam\",\n",
    "                           saveModelFileName=\"Models/ResNet50RR.fbm\",  # Save the re-training state ...\n",
    "                           savePeriod=1, saveBest=False,               # ... every epoch\n",
    "                           gpus=gpus)\n",
    "model.printNetConfig()\n",
    "model.initSession()\n",
    "model.train()\n",
    "results = model.evaluate(topK=5)"
   ]
  },
  {
   "cell_type": "markdown",
   "metadata": {},
   "source": [
    "## Where do I go from here?\n",
    "\n",
    "[Pruning ResNet50 Model](ResNet50-Prune.ipynb)\n",
    "\n",
    "[Quantizing ResNet50 Model](ResNet50-Quantize.ipynb)\n",
    "\n",
    "[Exporting ResNet50 Model to ONNX](ResNet50-ONNX.ipynb)\n",
    "\n",
    "[Exporting ResNet50 Model to TensorFlow](ResNet50-TF.ipynb)\n",
    "\n",
    "[Exporting ResNet50 Model to CoreML](ResNet50-CoreML.ipynb)\n",
    "\n",
    "________________\n",
    "\n",
    "[Fireball Playgrounds](../Contents.ipynb)\n",
    "\n",
    "[Image Classification with ResNet50](ResNet50.ipynb)\n"
   ]
  },
  {
   "cell_type": "code",
   "execution_count": null,
   "metadata": {},
   "outputs": [],
   "source": []
  }
 ],
 "metadata": {
  "kernelspec": {
   "display_name": "Python 3 (ipykernel)",
   "language": "python",
   "name": "python3"
  },
  "language_info": {
   "codemirror_mode": {
    "name": "ipython",
    "version": 3
   },
   "file_extension": ".py",
   "mimetype": "text/x-python",
   "name": "python",
   "nbconvert_exporter": "python",
   "pygments_lexer": "ipython3",
   "version": "3.9.12"
  }
 },
 "nbformat": 4,
 "nbformat_minor": 4
}
