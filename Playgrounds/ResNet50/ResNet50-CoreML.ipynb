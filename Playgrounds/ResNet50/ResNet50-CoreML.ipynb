{
 "cells": [
  {
   "cell_type": "markdown",
   "metadata": {},
   "source": [
    "## Exporting a ResNet50 model to CoreML\n",
    "To use a Fireball model in an iOS application, we can use [exportToCoreMl](https://interdigitalinc.github.io/Fireball/html/source/model.html#fireball.model.Model.exportToCoreMl) method. This notebook shows how to use this function to create a CoreML model ready to be deployed in an iOS app. It assumes that a trained ResNet50 model already exists in the ```Models``` directory. Please refer to the notebook [Image Classification with ResNet50](ResNet50.ipynb) for more info about using a pretrained ResNet50 model.\n",
    "\n",
    "Fireball can also export models with reduced number of parameters, pruned models, and quatized models. Please refer to the following notebooks for more information:\n",
    "\n",
    "- [Reducing number of parameters of ResNet50 Model](ResNet50-Reduce.ipynb)\n",
    "- [Pruning ResNet50 Model](ResNet50-Prune.ipynb)\n",
    "- [Quantizing ResNet50 Model](ResNet50-Quantize.ipynb)\n",
    "\n",
    "Note: Fireball uses the [coremltools](https://github.com/apple/coremltools) python package to export CoreML models. \n",
    "\n",
    "## Load a pretrained model"
   ]
  },
  {
   "cell_type": "code",
   "execution_count": 1,
   "metadata": {},
   "outputs": [
    {
     "name": "stdout",
     "output_type": "stream",
     "text": [
      "\n",
      "Reading from \"Models/ResNet50RRPRQR.fbm\" ... Done.\n",
      "Creating the fireball model \"ResNet50\" ... Done.\n",
      "Metal device set to: Apple M1 Max\n",
      "\n",
      "Scope            InShape       Comments                 OutShape      Activ.   Post Act.        # of Params\n",
      "---------------  ------------  -----------------------  ------------  -------  ---------------  -----------\n",
      "IN_IMG                         Image Size: 224x224x3    224 224 3     None                      0          \n",
      "S1_L1_CONV       224 224 3     KSP: 7 2 3               112 112 64    None                      7,114      \n",
      "S1_L2_BN         112 112 64                             56 56 64      ReLU     MP(KSP):3 2 1    256        \n",
      "S2_L1_RES2       56 56 64      2 Paths, 8 layers        56 56 256     ReLU                      48,512     \n",
      "S2_L2_RES1       56 56 256     2 Paths, 7 layers        56 56 256     ReLU                      48,277     \n",
      "S2_L3_RES1       56 56 256     2 Paths, 7 layers        56 56 256     ReLU                      48,808     \n",
      "S3_L1_RES2c1     56 56 256     2 Paths, 8 layers        28 28 512     ReLU                      177,376    \n",
      "S3_L2_RES1c2     28 28 512     2 Paths, 7 layers        28 28 512     ReLU                      137,952    \n",
      "S3_L3_RES1c3     28 28 512     2 Paths, 7 layers        28 28 512     ReLU                      82,541     \n",
      "S3_L4_RES1c4     28 28 512     2 Paths, 7 layers        28 28 512     ReLU                      151,113    \n",
      "S4_L1_RES2c5     28 28 512     2 Paths, 8 layers        14 14 1024    ReLU                      471,794    \n",
      "S4_L2_RES1c6     14 14 1024    2 Paths, 7 layers        14 14 1024    ReLU                      310,103    \n",
      "S4_L3_RES1c7     14 14 1024    2 Paths, 7 layers        14 14 1024    ReLU                      389,532    \n",
      "S4_L4_RES1c8     14 14 1024    2 Paths, 7 layers        14 14 1024    ReLU                      376,410    \n",
      "S4_L5_RES1c9     14 14 1024    2 Paths, 7 layers        14 14 1024    ReLU                      399,086    \n",
      "S4_L6_RES1c10    14 14 1024    2 Paths, 7 layers        14 14 1024    ReLU                      407,601    \n",
      "S5_L1_RES2c11    14 14 1024    2 Paths, 8 layers        7 7 2048      ReLU     DO               1,634,397  \n",
      "S5_L2_RES1c12    7 7 2048      2 Paths, 7 layers        7 7 2048      ReLU     DO               1,107,831  \n",
      "S5_L3_RES1c13    7 7 2048      2 Paths, 7 layers        1 1 2048      ReLU     Global Avg       1,187,065  \n",
      "S6_L1_FC         1 1 2048      LR400                    1000          None                      910,611    \n",
      "OUT_CLASS        1000          1000 classes             1000          None                      0          \n",
      "---------------------------------------------------------------------------------------------------------\n",
      "                                                                  Total Number of parameters: 7,896,379  \n",
      "  Processed 50000 Sample. (Time: 147.76 Sec.)                              \n",
      "\n",
      "Observed Accuracy:  0.69462\n"
     ]
    }
   ],
   "source": [
    "from fireball import Model\n",
    "from fireball.datasets.imagenet import ImageNetDSet\n",
    "gpus='upto4'\n",
    "\n",
    "# Create the test dataset for evaluation.\n",
    "testDs = ImageNetDSet.makeDatasets('Test', batchSize=256, preProcessing='Crop256Cafe', numWorkers=8)\n",
    "\n",
    "orgFileName = \"Models/ResNet50RRPRQR.fbm\"  # Reduced - Retrained - Pruned - Retrained - Quantized - Retrained\n",
    "\n",
    "model = Model.makeFromFile(orgFileName, testDs=testDs, gpus=gpus)   \n",
    "model.initSession()\n",
    "model.printLayersInfo()\n",
    "results = model.evaluate()"
   ]
  },
  {
   "cell_type": "markdown",
   "metadata": {},
   "source": [
    "## Exporting to CoreML\n",
    "CoreML handles the pre-processing of the images inside the model. The arguments ```rgbBias``` and ```scale``` are used to tell CoreML how to do this pre-processing. The pre-processed image is calculated by CoreML as:\n",
    "\n",
    "```\n",
    "processedImage = image * scale + rgbBias\n",
    "```\n",
    "\n",
    "For ResNet50, the processed images must be in BGR format with values normalized using the mean values 103.939, 116.779, 123.68 for blue, green, and red respectively. So, we are using the following values:\n",
    "```\n",
    "scale=1        # This is the default\n",
    "rgbBias=[-123.68, -116.779, -103.939]\n",
    "isBgr=True\n",
    "```"
   ]
  },
  {
   "cell_type": "code",
   "execution_count": 2,
   "metadata": {},
   "outputs": [
    {
     "name": "stderr",
     "output_type": "stream",
     "text": [
      "scikit-learn version 1.4.0 is not supported. Minimum required version: 0.17. Maximum required version: 1.1.2. Disabling scikit-learn conversion API.\n"
     ]
    },
    {
     "name": "stdout",
     "output_type": "stream",
     "text": [
      "\n",
      "Exporting to CoreML model \"Models/ResNet50RRPRQR.mlmodel\" ... \n",
      "    Exported all 21 layers.                               \n",
      "    Saving to \"Models/ResNet50RRPRQR.mlmodel\" ... Done.\n",
      "Done (89.63 Sec.)\n",
      "Original Model File Size: 102,562,787 bytes\n",
      "CoreML Model File Size: 10,244,317 bytes (9.99% of original)\n"
     ]
    }
   ],
   "source": [
    "import os\n",
    "\n",
    "cmlFileName = orgFileName.replace('.fbm', '.mlmodel')\n",
    "\n",
    "model.exportToCoreMl(cmlFileName, classNames=ImageNetDSet.classNames,\n",
    "                     isBgr=True, rgbBias=[-123.68, -116.779, -103.939])\n",
    "\n",
    "orgFileSize = os.stat(\"Models/ResNet50.fbm\").st_size\n",
    "print('Original Model File Size: {:,} bytes'.format(orgFileSize))\n",
    "fileSize = os.stat(cmlFileName).st_size\n",
    "print('CoreML Model File Size: {:,} bytes ({:2.2%} of original)'.format(fileSize, fileSize/orgFileSize))"
   ]
  },
  {
   "cell_type": "markdown",
   "metadata": {},
   "source": [
    "## Using netron to visualize the exported model\n",
    "We can now visualize the model's network structure using the [netron](https://github.com/lutzroeder/netron) package."
   ]
  },
  {
   "cell_type": "code",
   "execution_count": 3,
   "metadata": {},
   "outputs": [
    {
     "name": "stdout",
     "output_type": "stream",
     "text": [
      "Serving 'Models/ResNet50RRPRQR.mlmodel' at http://localhost:8080\n"
     ]
    }
   ],
   "source": [
    "import netron\n",
    "import platform\n",
    "\n",
    "if platform.system() == 'Darwin':      # Running on MAC\n",
    "    netron.start(cmlFileName)   \n",
    "else:\n",
    "    import socket\n",
    "    hostIp = socket.gethostbyname(socket.gethostname())\n",
    "    netron.start(cmlFileName, address=(hostIp,8084))"
   ]
  },
  {
   "cell_type": "markdown",
   "metadata": {},
   "source": [
    "## Running inference on the exported model\n",
    "To verify the exported model, we can now run inference on it. Currently the CoreML runtime is only available on Mac. You can run all previous cells on a GPU-based machine and then copy the exported CoreML file to a Mac and test the model using the code in the following cell."
   ]
  },
  {
   "cell_type": "code",
   "execution_count": 4,
   "metadata": {},
   "outputs": [
    {
     "name": "stdout",
     "output_type": "stream",
     "text": [
      "Top-3 Classes (For \"CoffeeMug.jpg\"):\n",
      "    coffee_mug (0.570312)\n",
      "    cup (0.257080)\n",
      "    pitcher (0.099182)\n"
     ]
    }
   ],
   "source": [
    "import platform\n",
    "assert platform.system() == 'Darwin', \"This is only supported when running on Mac!\"\n",
    "\n",
    "import cv2\n",
    "from PIL import Image\n",
    "import numpy as np\n",
    "imageFileName = 'CoffeeMug.jpg'\n",
    "\n",
    "img = cv2.imread(imageFileName)     # Reads image in BGR order\n",
    "\n",
    "imgSize = img.shape[:2]\n",
    "ratio = 256.0/min(imgSize)\n",
    "newSize = (int(np.round(imgSize[1]*ratio)), int(np.round(imgSize[0]*ratio)))\n",
    "\n",
    "# Note: INTER_AREA is best when shrinking and CV_INTER_CUBIC is best when enlarging\n",
    "img = cv2.resize(img, newSize,  interpolation = (cv2.INTER_AREA if ratio<1.0 else cv2.INTER_CUBIC))\n",
    "\n",
    "# Now crop the center 224x224 image\n",
    "dw = newSize[0] - 224\n",
    "dh = newSize[1] - 224\n",
    "resizedImg = img[dh//2:dh//2+224, dw//2:dw//2+224,:]\n",
    "pilImage = Image.fromarray( np.uint8(resizedImg[:,:,::-1]) ) # Convert to PIL image (RGB)\n",
    "\n",
    "import coremltools\n",
    "cmlFileName = \"Models/ResNet50RRPRQR.mlmodel\"\n",
    "model = coremltools.models.MLModel(cmlFileName)\n",
    "outputDict = model.predict({'InputImage': pilImage})\n",
    "\n",
    "labels, probs = zip(*outputDict['ClassProbs'].items())\n",
    "top3Idxs = np.argsort(probs)[-3:][::-1]    # Indexes of classes with 3 highest probs (decreasing order)\n",
    "print('Top-3 Classes (For \"%s\"):'%(imageFileName))\n",
    "for i in range(3):\n",
    "    print('    %s (%f)'%(labels[top3Idxs[i]], probs[top3Idxs[i]])) "
   ]
  },
  {
   "cell_type": "markdown",
   "metadata": {},
   "source": [
    "## Also look at\n",
    "\n",
    "[Exporting ResNet50 Model to ONNX](ResNet50-ONNX.ipynb)\n",
    "\n",
    "[Exporting ResNet50 Model to TensorFlow](ResNet50-TF.ipynb)\n",
    "\n",
    "---\n",
    "\n",
    "[Fireball Playgrounds](../Contents.ipynb)\n",
    "\n",
    "[Image Classification with ResNet50](ResNet50.ipynb)\n",
    "\n",
    "[Reducing number of parameters of ResNet50 Model](ResNet50-Reduce.ipynb)\n",
    "\n",
    "[Pruning ResNet50 Model](ResNet50-Prune.ipynb)\n",
    "\n",
    "[Quantizing ResNet50 Model](ResNet50-Quantize.ipynb)\n"
   ]
  },
  {
   "cell_type": "code",
   "execution_count": null,
   "metadata": {},
   "outputs": [],
   "source": []
  }
 ],
 "metadata": {
  "kernelspec": {
   "display_name": "Python 3 (ipykernel)",
   "language": "python",
   "name": "python3"
  },
  "language_info": {
   "codemirror_mode": {
    "name": "ipython",
    "version": 3
   },
   "file_extension": ".py",
   "mimetype": "text/x-python",
   "name": "python",
   "nbconvert_exporter": "python",
   "pygments_lexer": "ipython3",
   "version": "3.9.16"
  }
 },
 "nbformat": 4,
 "nbformat_minor": 4
}
