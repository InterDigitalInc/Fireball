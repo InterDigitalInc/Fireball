{
 "cells": [
  {
   "cell_type": "markdown",
   "metadata": {},
   "source": [
    "# Pruning ResNet50 Model\n",
    "This notebook shows how to reduce the size of a model by pruning its parameters. It assumes \n",
    "that a trained ```ResNet50``` model already exists in the ```Models``` directory. Please refer to the notebook\n",
    "[Image Classification with ResNet50](ResNet50.ipynb) for more info about using a pretrained ResNet50 model.\n",
    "\n",
    "If you want to prune a Low-Rank model, you can use [this](ResNet50-Reduce.ipynb) notebook\n",
    "to reduce the number of parameters in ```ResNet50```.\n",
    "\n",
    "## Load and evaluate the original pretrained model"
   ]
  },
  {
   "cell_type": "code",
   "execution_count": 1,
   "metadata": {},
   "outputs": [
    {
     "name": "stdout",
     "output_type": "stream",
     "text": [
      "\n",
      "Reading from \"Models/ResNet50RR.fbm\" ... Done.\n",
      "Creating the fireball model \"ResNet50\" ... Done.\n",
      "\n",
      "Scope            InShape       Comments                 OutShape      Activ.   Post Act.        # of Params\n",
      "---------------  ------------  -----------------------  ------------  -------  ---------------  -----------\n",
      "IN_IMG                         Image Size: 224x224x3    224 224 3     None                      0          \n",
      "S1_L1_CONV       224 224 3     KSP: 7 2 3               112 112 64    None                      9,472      \n",
      "S1_L2_BN         112 112 64                             56 56 64      ReLU     MP(KSP):3 2 1    256        \n",
      "S2_L1_RES2       56 56 64      2 Paths, 8 layers        56 56 256     ReLU                      76,928     \n",
      "S2_L2_RES1       56 56 256     2 Paths, 7 layers        56 56 256     ReLU                      71,552     \n",
      "S2_L3_RES1       56 56 256     2 Paths, 7 layers        56 56 256     ReLU                      71,552     \n",
      "S3_L1_RES2c1     56 56 256     2 Paths, 8 layers        28 28 512     ReLU                      241,920    \n",
      "S3_L2_RES1c2     28 28 512     2 Paths, 7 layers        28 28 512     ReLU                      193,280    \n",
      "S3_L3_RES1c3     28 28 512     2 Paths, 7 layers        28 28 512     ReLU                      121,600    \n",
      "S3_L4_RES1c4     28 28 512     2 Paths, 7 layers        28 28 512     ReLU                      208,640    \n",
      "S4_L1_RES2c5     28 28 512     2 Paths, 8 layers        14 14 1024    ReLU                      670,208    \n",
      "S4_L2_RES1c6     14 14 1024    2 Paths, 7 layers        14 14 1024    ReLU                      458,240    \n",
      "S4_L3_RES1c7     14 14 1024    2 Paths, 7 layers        14 14 1024    ReLU                      570,880    \n",
      "S4_L4_RES1c8     14 14 1024    2 Paths, 7 layers        14 14 1024    ReLU                      560,640    \n",
      "S4_L5_RES1c9     14 14 1024    2 Paths, 7 layers        14 14 1024    ReLU                      581,120    \n",
      "S4_L6_RES1c10    14 14 1024    2 Paths, 7 layers        14 14 1024    ReLU                      591,360    \n",
      "S5_L1_RES2c11    14 14 1024    2 Paths, 8 layers        7 7 2048      ReLU     DO               2,479,104  \n",
      "S5_L2_RES1c12    7 7 2048      2 Paths, 7 layers        7 7 2048      ReLU     DO               1,735,680  \n",
      "S5_L3_RES1c13    7 7 2048      2 Paths, 7 layers        1 1 2048      ReLU     Global Avg       1,817,600  \n",
      "S6_L1_FC         1 1 2048      LR400                    1000          None                      1,220,200  \n",
      "OUT_CLASS        1000          1000 classes             1000          None                      0          \n",
      "---------------------------------------------------------------------------------------------------------\n",
      "                                                                  Total Number of parameters: 11,680,232 \n",
      "  Processed 50000 Sample. (Time: 61.64 Sec.)                              \n",
      "\n",
      "Observed Accuracy:  0.7010000000000001\n",
      "Top-5 Accuracy:     0.89902\n"
     ]
    }
   ],
   "source": [
    "from fireball import Model\n",
    "from fireball.datasets.imagenet import ImageNetDSet\n",
    "gpus='upto4'\n",
    "\n",
    "# Create the test dataset for evaluation.\n",
    "testDs = ImageNetDSet.makeDatasets('Test', batchSize=256, preProcessing='Crop256Cafe', numWorkers=8)\n",
    "\n",
    "orgFileName = \"Models/ResNet50RR.fbm\"    # Reduced - Retrained\n",
    "\n",
    "model = Model.makeFromFile(orgFileName, testDs=testDs, gpus=gpus)\n",
    "model.initSession()\n",
    "model.printLayersInfo()\n",
    "results = model.evaluate(topK=5)\n"
   ]
  },
  {
   "cell_type": "markdown",
   "metadata": {},
   "source": [
    "## Pruning the model\n",
    "Here we prune the model using the [pruneModel](https://interdigitalinc.github.io/Fireball/html/source/model.html#fireball.model.Model.pruneModel) class method of the model."
   ]
  },
  {
   "cell_type": "code",
   "execution_count": 2,
   "metadata": {},
   "outputs": [
    {
     "name": "stdout",
     "output_type": "stream",
     "text": [
      "\n",
      "Reading model parameters from \"Models/ResNet50RR.fbm\" ... Done.\n",
      "Pruning 363 tensors using 36 workers ... \n",
      "   Pruning Parameters:\n",
      "        mseUb ................ 0.000010\n",
      "Pruning process complete (3.83 Sec.)\n",
      "Now saving to \"Models/ResNet50RRP.fbm\" ... Done.\n",
      "\n",
      "Number of parameters: 11,680,232 -> 7,896,379 (3,783,853 pruned)\n",
      "Model File Size: 46,745,545 -> 33,056,590 bytes\n"
     ]
    }
   ],
   "source": [
    "prunedFileName = orgFileName.replace('.fbm', 'P.fbm')  # Append 'P' to the filename for \"Pruned\"\n",
    "pResults = Model.pruneModel(orgFileName, prunedFileName, mseUb=.00001)"
   ]
  },
  {
   "cell_type": "markdown",
   "metadata": {},
   "source": [
    "## Evaluate the pruned model\n",
    "Compare the new number of parameters with the original. Let's see the impact of this reduction to the performance of the model."
   ]
  },
  {
   "cell_type": "code",
   "execution_count": 3,
   "metadata": {},
   "outputs": [
    {
     "name": "stdout",
     "output_type": "stream",
     "text": [
      "\n",
      "Reading from \"Models/ResNet50RRP.fbm\" ... Done.\n",
      "Creating the fireball model \"ResNet50\" ... Done.\n",
      "\n",
      "Scope            InShape       Comments                 OutShape      Activ.   Post Act.        # of Params\n",
      "---------------  ------------  -----------------------  ------------  -------  ---------------  -----------\n",
      "IN_IMG                         Image Size: 224x224x3    224 224 3     None                      0          \n",
      "S1_L1_CONV       224 224 3     KSP: 7 2 3               112 112 64    None                      7,114      \n",
      "S1_L2_BN         112 112 64                             56 56 64      ReLU     MP(KSP):3 2 1    256        \n",
      "S2_L1_RES2       56 56 64      2 Paths, 8 layers        56 56 256     ReLU                      48,512     \n",
      "S2_L2_RES1       56 56 256     2 Paths, 7 layers        56 56 256     ReLU                      48,277     \n",
      "S2_L3_RES1       56 56 256     2 Paths, 7 layers        56 56 256     ReLU                      48,808     \n",
      "S3_L1_RES2c1     56 56 256     2 Paths, 8 layers        28 28 512     ReLU                      177,376    \n",
      "S3_L2_RES1c2     28 28 512     2 Paths, 7 layers        28 28 512     ReLU                      137,952    \n",
      "S3_L3_RES1c3     28 28 512     2 Paths, 7 layers        28 28 512     ReLU                      82,541     \n",
      "S3_L4_RES1c4     28 28 512     2 Paths, 7 layers        28 28 512     ReLU                      151,113    \n",
      "S4_L1_RES2c5     28 28 512     2 Paths, 8 layers        14 14 1024    ReLU                      471,794    \n",
      "S4_L2_RES1c6     14 14 1024    2 Paths, 7 layers        14 14 1024    ReLU                      310,103    \n",
      "S4_L3_RES1c7     14 14 1024    2 Paths, 7 layers        14 14 1024    ReLU                      389,532    \n",
      "S4_L4_RES1c8     14 14 1024    2 Paths, 7 layers        14 14 1024    ReLU                      376,410    \n",
      "S4_L5_RES1c9     14 14 1024    2 Paths, 7 layers        14 14 1024    ReLU                      399,086    \n",
      "S4_L6_RES1c10    14 14 1024    2 Paths, 7 layers        14 14 1024    ReLU                      407,601    \n",
      "S5_L1_RES2c11    14 14 1024    2 Paths, 8 layers        7 7 2048      ReLU     DO               1,634,397  \n",
      "S5_L2_RES1c12    7 7 2048      2 Paths, 7 layers        7 7 2048      ReLU     DO               1,107,831  \n",
      "S5_L3_RES1c13    7 7 2048      2 Paths, 7 layers        1 1 2048      ReLU     Global Avg       1,187,065  \n",
      "S6_L1_FC         1 1 2048      LR400                    1000          None                      910,611    \n",
      "OUT_CLASS        1000          1000 classes             1000          None                      0          \n",
      "---------------------------------------------------------------------------------------------------------\n",
      "                                                                  Total Number of parameters: 7,896,379  \n",
      "  Processed 50000 Sample. (Time: 91.48 Sec.)                              \n",
      "\n",
      "Observed Accuracy:  0.67952\n"
     ]
    }
   ],
   "source": [
    "model = Model.makeFromFile(prunedFileName, testDs=testDs, gpus='0')   \n",
    "model.printLayersInfo()\n",
    "model.initSession()\n",
    "results = model.evaluate()"
   ]
  },
  {
   "cell_type": "markdown",
   "metadata": {},
   "source": [
    "## Re-training after pruning\n",
    "Here we first make a new model from the file created above. We then call the [train](https://interdigitalinc.github.io/Fireball/html/source/model.html#fireball.model.Model.train) method of the model to start the re-training.\n",
    "\n",
    "After re-training, we run the [evaluate](https://interdigitalinc.github.io/Fireball/html/source/model.html#fireball.model.Model.evaluate) function again to see how the re-training improved the performance\n",
    "of the model.\n",
    "\n",
    "The re-trained model is then saved to a file appending an 'R' letter (for Re-trained) to the end of the pruned model file name."
   ]
  },
  {
   "cell_type": "code",
   "execution_count": 4,
   "metadata": {},
   "outputs": [
    {
     "name": "stdout",
     "output_type": "stream",
     "text": [
      "ImageNetDSet Dataset Info:\n",
      "    Dataset Name ................................... tune\n",
      "    Dataset Location ............................... /data/ImageNet/\n",
      "    Number of Classes .............................. 1000\n",
      "    Number of Samples .............................. 64000\n",
      "    Sample Shape ................................... (224, 224, 3)\n",
      "    Preprocessing .................................. Crop256Cafe\n",
      "    Number of Workers .............................. 8\n",
      "\n",
      "\n",
      "Reading from \"Models/ResNet50RRP.fbm\" ... Done.\n",
      "Creating the fireball model \"ResNet50\" ... Done.\n",
      "\n",
      "Scope            InShape       Comments                 OutShape      Activ.   Post Act.        # of Params\n",
      "---------------  ------------  -----------------------  ------------  -------  ---------------  -----------\n",
      "IN_IMG                         Image Size: 224x224x3    224 224 3     None                      0          \n",
      "S1_L1_CONV       224 224 3     KSP: 7 2 3               112 112 64    None                      7,114      \n",
      "S1_L2_BN         112 112 64                             56 56 64      ReLU     MP(KSP):3 2 1    256        \n",
      "S2_L1_RES2       56 56 64      2 Paths, 8 layers        56 56 256     ReLU                      48,512     \n",
      "S2_L2_RES1       56 56 256     2 Paths, 7 layers        56 56 256     ReLU                      48,277     \n",
      "S2_L3_RES1       56 56 256     2 Paths, 7 layers        56 56 256     ReLU                      48,808     \n",
      "S3_L1_RES2c1     56 56 256     2 Paths, 8 layers        28 28 512     ReLU                      177,376    \n",
      "S3_L2_RES1c2     28 28 512     2 Paths, 7 layers        28 28 512     ReLU                      137,952    \n",
      "S3_L3_RES1c3     28 28 512     2 Paths, 7 layers        28 28 512     ReLU                      82,541     \n",
      "S3_L4_RES1c4     28 28 512     2 Paths, 7 layers        28 28 512     ReLU                      151,113    \n",
      "S4_L1_RES2c5     28 28 512     2 Paths, 8 layers        14 14 1024    ReLU                      471,794    \n",
      "S4_L2_RES1c6     14 14 1024    2 Paths, 7 layers        14 14 1024    ReLU                      310,103    \n",
      "S4_L3_RES1c7     14 14 1024    2 Paths, 7 layers        14 14 1024    ReLU                      389,532    \n",
      "S4_L4_RES1c8     14 14 1024    2 Paths, 7 layers        14 14 1024    ReLU                      376,410    \n",
      "S4_L5_RES1c9     14 14 1024    2 Paths, 7 layers        14 14 1024    ReLU                      399,086    \n",
      "S4_L6_RES1c10    14 14 1024    2 Paths, 7 layers        14 14 1024    ReLU                      407,601    \n",
      "S5_L1_RES2c11    14 14 1024    2 Paths, 8 layers        7 7 2048      ReLU     DO               1,634,397  \n",
      "S5_L2_RES1c12    7 7 2048      2 Paths, 7 layers        7 7 2048      ReLU     DO               1,107,831  \n",
      "S5_L3_RES1c13    7 7 2048      2 Paths, 7 layers        1 1 2048      ReLU     Global Avg       1,187,065  \n",
      "S6_L1_FC         1 1 2048      LR400                    1000          None                      910,611    \n",
      "OUT_CLASS        1000          1000 classes             1000          None                      0          \n",
      "---------------------------------------------------------------------------------------------------------\n",
      "                                                                  Total Number of parameters: 7,896,379  \n",
      "+--------+---------+---------------+-----------+-------------------+\n",
      "| Epoch  | Batch   | Learning Rate | Loss      | Valid/Test Error  |\n",
      "+--------+---------+---------------+-----------+-------------------+\n",
      "| 1      | 249     | 0.00002200633 | 0.5566171 | N/A        30.67% |\n",
      "| 2      | 499     | 0.00000920129 | 0.4256872 | N/A        30.43% |\n",
      "+--------+---------+---------------+-----------+-------------------+\n",
      "Total Training Time: 354.34 Seconds\n",
      "  Processed 50000 Sample. (Time: 46.16 Sec.)                              \n",
      "\n",
      "Observed Accuracy:  0.69572\n",
      "Top-5 Accuracy:     0.89732\n"
     ]
    }
   ],
   "source": [
    "tuneDs = ImageNetDSet.makeDatasets('tune', batchSize=256, preProcessing='Crop256Cafe', numWorkers=8)\n",
    "print(tuneDs)\n",
    "\n",
    "model = Model.makeFromFile(prunedFileName, trainDs=tuneDs, testDs=testDs,\n",
    "                           numEpochs=2,\n",
    "                           learningRate=(0.00005, 0.00001),\n",
    "                           optimizer=\"Adam\",\n",
    "                           gpus=gpus)\n",
    "model.printLayersInfo()\n",
    "model.initSession()\n",
    "model.train()\n",
    "results = model.evaluate(topK=5)\n",
    "\n",
    "retrainedFileName = prunedFileName.replace('.fbm', 'R.fbm')  # Append 'R' to the filename for \"Retrained\"\n",
    "model.save(retrainedFileName)"
   ]
  },
  {
   "cell_type": "markdown",
   "metadata": {},
   "source": [
    "## Also look at\n",
    "\n",
    "[Quantizing ResNet50 Model](ResNet50-Quantize.ipynb)\n",
    "\n",
    "[Exporting ResNet50 Model to ONNX](ResNet50-ONNX.ipynb)\n",
    "\n",
    "[Exporting ResNet50 Model to TensorFlow](ResNet50-TF.ipynb)\n",
    "\n",
    "[Exporting ResNet50 Model to CoreML](ResNet50-CoreML.ipynb)\n",
    "\n",
    "---\n",
    "\n",
    "[Fireball Playgrounds](../Contents.ipynb)\n",
    "\n",
    "[Image Classification with ResNet50](ResNet50.ipynb)\n",
    "\n",
    "[Reducing number of parameters of ResNet50 Model](ResNet50-Reduce.ipynb)"
   ]
  },
  {
   "cell_type": "code",
   "execution_count": null,
   "metadata": {},
   "outputs": [],
   "source": []
  }
 ],
 "metadata": {
  "kernelspec": {
   "display_name": "Python 3 (ipykernel)",
   "language": "python",
   "name": "python3"
  },
  "language_info": {
   "codemirror_mode": {
    "name": "ipython",
    "version": 3
   },
   "file_extension": ".py",
   "mimetype": "text/x-python",
   "name": "python",
   "nbconvert_exporter": "python",
   "pygments_lexer": "ipython3",
   "version": "3.9.16"
  }
 },
 "nbformat": 4,
 "nbformat_minor": 4
}
