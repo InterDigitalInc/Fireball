{
 "cells": [
  {
   "cell_type": "markdown",
   "metadata": {},
   "source": [
    "<table style=\"width:100%\"><tr>\n",
    "    <td style=\"text-align:left;\">\n",
    "        <img src=\"Fireball.png\" align=\"left\">\n",
    "        <strong style=\"font-size: 50px;\">&nbsp;&nbsp;Fireball Playgrounds</strong>\n",
    "    </td>\n",
    "</tr></table>"
   ]
  },
  {
   "cell_type": "markdown",
   "metadata": {},
   "source": [
    "# Contents\n",
    "\n",
    "## Getting started\n",
    "\n",
    "[Handwritten Digit Recognition (LeNet-5/MNIST)](LeNet5/LeNet5-MNIST.ipynb)\n",
    "\n",
    "[Image Classification with ResNet50 and ImageNet](ResNet50/ResNet50.ipynb)\n",
    "\n",
    "[Image Classification with MobileNetV2 and ImageNet](MobileNetV2/MobileNetV2.ipynb)\n",
    "\n",
    "[Question Answering (BERT/SQuAD)](BertSquad/BertSquad.ipynb)\n",
    "\n",
    "[Object Detection (SSD/COCO)](SSD/SSD.ipynb)\n",
    "\n",
    "## Code for papers\n",
    "[MCformer: A Transformer Based Deep Neural Network for Automatic Modulation Classification](MCformer/MCformer.ipynb)\n",
    "\n",
    "## Reducing the number of parameters using Low-Rank Decomposition\n",
    "[LeNet-5](LeNet5/LeNet5-MNIST-Reduce.ipynb) &nbsp;|&nbsp;\n",
    "[ResNet50](ResNet50/ResNet50-Reduce.ipynb) &nbsp;|&nbsp;\n",
    "[MobileNetV2](MobileNetV2/MobileNetV2-Reduce.ipynb) &nbsp;|&nbsp;\n",
    "[BERT/SQuAD](BertSquad/BertSquad-Reduce.ipynb) &nbsp;|&nbsp;\n",
    "[SSD/COCO](SSD/SSD-Reduce.ipynb)\n",
    "\n",
    "## Pruning Models\n",
    "[LeNet-5](LeNet5/LeNet5-MNIST-Prune.ipynb) &nbsp;|&nbsp;\n",
    "[ResNet50](ResNet50/ResNet50-Prune.ipynb) &nbsp;|&nbsp;\n",
    "[MobileNetV2](MobileNetV2/MobileNetV2-Prune.ipynb) &nbsp;|&nbsp;\n",
    "[BERT/SQuAD](BertSquad/BertSquad-Prune.ipynb) &nbsp;|&nbsp;\n",
    "[SSD/COCO](SSD/SSD-Prune.ipynb)\n",
    "\n",
    "## Quantizing a Fireball Model\n",
    "\n",
    "[LeNet-5](LeNet5/LeNet5-MNIST-Quantize.ipynb) &nbsp;|&nbsp;\n",
    "[ResNet50](ResNet50/ResNet50-Quantize.ipynb) &nbsp;|&nbsp;\n",
    "[MobileNetV2](MobileNetV2/MobileNetV2-Quantize.ipynb) &nbsp;|&nbsp;\n",
    "[BERT/SQuAD](BertSquad/BertSquad-Quantize.ipynb) &nbsp;|&nbsp;\n",
    "[SSD/COCO](SSD/SSD-Quantize.ipynb)\n",
    "\n",
    "## Exporting to ONNX\n",
    "\n",
    "[LeNet-5](LeNet5/LeNet5-MNIST-ONNX.ipynb) &nbsp;|&nbsp;\n",
    "[ResNet50](ResNet50/ResNet50-ONNX.ipynb) &nbsp;|&nbsp;\n",
    "[MobileNetV2](MobileNetV2/MobileNetV2-ONNX.ipynb) &nbsp;|&nbsp;\n",
    "[BERT/SQuAD](BertSquad/BertSquad-ONNX.ipynb) &nbsp;|&nbsp;\n",
    "[SSD/COCO](SSD/SSD-ONNX.ipynb)\n",
    "\n",
    "## Exporting to TensorFlow\n",
    "\n",
    "[LeNet-5](LeNet5/LeNet5-MNIST-TF.ipynb) &nbsp;|&nbsp;\n",
    "[ResNet50](ResNet50/ResNet50-TF.ipynb) &nbsp;|&nbsp;\n",
    "[MobileNetV2](MobileNetV2/MobileNetV2-TF.ipynb) &nbsp;|&nbsp;\n",
    "[BERT/SQuAD](BertSquad/BertSquad-TF.ipynb) &nbsp;|&nbsp;\n",
    "[SSD/COCO](SSD/SSD-TF.ipynb)\n",
    "\n",
    "## Exporting to CoreML\n",
    "\n",
    "[LeNet-5](LeNet5/LeNet5-MNIST-CoreML.ipynb) &nbsp;|&nbsp;\n",
    "[ResNet50](ResNet50/ResNet50-CoreML.ipynb) &nbsp;|&nbsp;\n",
    "[MobileNetV2](MobileNetV2/MobileNetV2-CoreML.ipynb) &nbsp;|&nbsp;\n",
    "[BERT/SQuAD](BertSquad/BertSquad-CoreML.ipynb) &nbsp;|&nbsp;\n",
    "[SSD/COCO](SSD/SSD-CoreML.ipynb)\n",
    "\n",
    "## Regression Example\n",
    "[Hand-written Digit Recognition as a Regression problem](LeNet5/Regression.ipynb)\n",
    "\n",
    "## User-Defined Loss Function\n",
    "[Using PSNR for the loss function for Hand-written Digit Regression model](LeNet5/MnistRegressionPsnrLoss.ipynb)\n"
   ]
  },
  {
   "cell_type": "code",
   "execution_count": null,
   "metadata": {},
   "outputs": [],
   "source": []
  }
 ],
 "metadata": {
  "kernelspec": {
   "display_name": "Python 3 (ipykernel)",
   "language": "python",
   "name": "python3"
  },
  "language_info": {
   "codemirror_mode": {
    "name": "ipython",
    "version": 3
   },
   "file_extension": ".py",
   "mimetype": "text/x-python",
   "name": "python",
   "nbconvert_exporter": "python",
   "pygments_lexer": "ipython3",
   "version": "3.9.7"
  }
 },
 "nbformat": 4,
 "nbformat_minor": 4
}
