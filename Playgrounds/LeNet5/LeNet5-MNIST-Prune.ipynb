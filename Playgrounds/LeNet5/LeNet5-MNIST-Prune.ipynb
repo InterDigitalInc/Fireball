{
 "cells": [
  {
   "cell_type": "markdown",
   "metadata": {},
   "source": [
    "# Pruning LeNet-5 Model\n",
    "This notebook shows how to reduce the size of a model by pruning its parameters. It assumes \n",
    "that a trained LeNet-5 model already exists in the ```Models``` directory. You can use the \n",
    "notebook [Handwritten Digit recognition (LeNet-5/MNIST)](LeNet5-MNIST.ipynb) to create and train a LeNet-5 model.\n",
    "\n",
    "If you want to prune a Low-Rank model, you can use [this](LeNet5-MNIST-Reduce.ipynb) notebook\n",
    "to reduce the number of parameters in ```LeNet-5```."
   ]
  },
  {
   "cell_type": "markdown",
   "metadata": {},
   "source": [
    "## Load and evaluate the original pretrained model"
   ]
  },
  {
   "cell_type": "code",
   "execution_count": 10,
   "metadata": {},
   "outputs": [
    {
     "name": "stdout",
     "output_type": "stream",
     "text": [
      "\n",
      "Reading from \"Models/LeNet5RR.fbm\" ... Done.\n",
      "Creating the fireball model \"LeNet-5\" ... Done.\n",
      "\n",
      "Scope            InShape       Comments                 OutShape      Activ.   Post Act.        # of Params\n",
      "---------------  ------------  -----------------------  ------------  -------  ---------------  -----------\n",
      "IN_IMG                         Image Size: 28x28x1      28 28 1       None                      0          \n",
      "L1_CONV          28 28 1       KSP: 5 1 s               14 14 6       ReLU     MP(KSP):2 2 v    156        \n",
      "L2_CONV          14 14 6       KSP: 5 1 v, LR8          5 5 16        ReLU     MP(KSP):2 2 v    1,344      \n",
      "L3_FC            5 5 16        LR8                      120           ReLU                      4,280      \n",
      "L4_FC            120           LR8                      84            ReLU                      1,716      \n",
      "L5_FC            84                                     10            None                      850        \n",
      "OUT_CLASS        10            10 classes               10            None                      0          \n",
      "---------------------------------------------------------------------------------------------------------\n",
      "                                                                  Total Number of parameters: 8,346      \n",
      "  Processed 10000 Sample. (Time: 1.27 Sec.)                              \n",
      "\n",
      "Observed Accuracy: 0.990300\n",
      "Expected Accuracy: 0.100350\n",
      "Kappa: 0.989218 (Excellent)\n"
     ]
    }
   ],
   "source": [
    "from fireball import Model\n",
    "from fireball.datasets.mnist import MnistDSet\n",
    "\n",
    "testDs = MnistDSet.makeDatasets('test', batchSize=128)\n",
    "\n",
    "# orgFileName = \"Models/LeNet5.fbm\"   # original model\n",
    "# orgFileName = \"Models/LeNet5R.fbm\"  # Reduced\n",
    "orgFileName = \"Models/LeNet5RR.fbm\" # Reduced - Retrained\n",
    "\n",
    "model = Model.makeFromFile(orgFileName, testDs=testDs, gpus='0')   \n",
    "model.initSession()\n",
    "model.printLayersInfo()\n",
    "results = model.evaluate()\n"
   ]
  },
  {
   "cell_type": "markdown",
   "metadata": {},
   "source": [
    "## Pruning the model\n",
    "Here we prune the model using the ``pruneModel`` class method of the model."
   ]
  },
  {
   "cell_type": "code",
   "execution_count": 11,
   "metadata": {},
   "outputs": [
    {
     "name": "stdout",
     "output_type": "stream",
     "text": [
      "\n",
      "Reading model parameters from \"Models/LeNet5RR.fbm\" ... Done.\n",
      "Pruning 13 tensors ... \n",
      "   Pruning Parameters:\n",
      "        mseUb ................ 0.001000\n",
      "    Tensor 1 of 13 Shape: 5x5x1x6 ........... Done. 45 Pruned < 0.095147, MSE=0.00099, Reduced: 0.0%)\n",
      "    Tensor 2 of 13 Shape: 6 ................. Ignored. (1-D Tensor)\n",
      "    Tensor 3 of 13 Shape: 5x5x6x8 ........... Done. 466 Pruned < 0.087863, MSE=0.00100, Reduced: 0.0%)\n",
      "    Tensor 4 of 13 Shape: 1x1x8x16 .......... Done. 22 Pruned < 0.114407, MSE=0.00095, Reduced: 0.0%)\n",
      "    Tensor 5 of 13 Shape: 16 ................ Ignored. (1-D Tensor)\n",
      "    Tensor 6 of 13 Shape: 400x8 ............. Done. 1367 Pruned < 0.091378, MSE=0.00100, Reduced: 0.0%)\n",
      "    Tensor 7 of 13 Shape: 8x120 ............. Done. 323 Pruned < 0.089173, MSE=0.00099, Reduced: 0.0%)\n",
      "    Tensor 8 of 13 Shape: 120 ............... Ignored. (1-D Tensor)\n",
      "    Tensor 9 of 13 Shape: 120x8 ............. Done. 486 Pruned < 0.081078, MSE=0.00100, Reduced: 0.0%)\n",
      "    Tensor 10 of 13 Shape: 8x84 ............. Done. 308 Pruned < 0.085847, MSE=0.00100, Reduced: 0.0%)\n",
      "    Tensor 11 of 13 Shape: 84 ............... Ignored. (1-D Tensor)\n",
      "    Tensor 12 of 13 Shape: 84x10 ............ Done. 305 Pruned < 0.089719, MSE=0.00099, Reduced: 0.0%)\n",
      "    Tensor 13 of 13 Shape: 10 ............... Ignored. (1-D Tensor)\n",
      "Pruning process complete (0.09 Sec.)\n",
      "Now saving to \"Models/LeNet5RRP.fbm\" ... Done.\n",
      "\n",
      "Number of parameters: 8,346 -> 5,024 (3,322 pruned)\n",
      "Model File Size: 34,870 -> 22,613 bytes\n"
     ]
    }
   ],
   "source": [
    "prunedFileName = orgFileName.replace('.fbm', 'P.fbm')  # Append 'P' to the filename for \"Pruned\"\n",
    "pResults = Model.pruneModel(orgFileName, prunedFileName, mseUb=.001, numWorkers=0)"
   ]
  },
  {
   "cell_type": "markdown",
   "metadata": {},
   "source": [
    "## Evaluate the pruned model\n",
    "Compare the new number of parameters with the original 61,706. Let's see the impact of this reduction to the performance of the model."
   ]
  },
  {
   "cell_type": "code",
   "execution_count": 12,
   "metadata": {},
   "outputs": [
    {
     "name": "stdout",
     "output_type": "stream",
     "text": [
      "\n",
      "Reading from \"Models/LeNet5RRP.fbm\" ... Done.\n",
      "Creating the fireball model \"LeNet-5\" ... Done.\n",
      "\n",
      "Scope            InShape       Comments                 OutShape      Activ.   Post Act.        # of Params\n",
      "---------------  ------------  -----------------------  ------------  -------  ---------------  -----------\n",
      "IN_IMG                         Image Size: 28x28x1      28 28 1       None                      0          \n",
      "L1_CONV          28 28 1       KSP: 5 1 s               14 14 6       ReLU     MP(KSP):2 2 v    111        \n",
      "L2_CONV          14 14 6       KSP: 5 1 v, LR8          5 5 16        ReLU     MP(KSP):2 2 v    856        \n",
      "L3_FC            5 5 16        LR8                      120           ReLU                      2,590      \n",
      "L4_FC            120           LR8                      84            ReLU                      922        \n",
      "L5_FC            84                                     10            None                      545        \n",
      "OUT_CLASS        10            10 classes               10            None                      0          \n",
      "---------------------------------------------------------------------------------------------------------\n",
      "                                                                  Total Number of parameters: 5,024      \n",
      "  Processed 10000 Sample. (Time: 1.18 Sec.)                              \n",
      "\n",
      "Observed Accuracy: 0.984700\n",
      "Expected Accuracy: 0.100354\n",
      "Kappa: 0.982993 (Excellent)\n"
     ]
    }
   ],
   "source": [
    "model = Model.makeFromFile(prunedFileName, testDs=testDs, gpus='0')   \n",
    "model.printLayersInfo()\n",
    "model.initSession()\n",
    "results = model.evaluate()"
   ]
  },
  {
   "cell_type": "markdown",
   "metadata": {},
   "source": [
    "## Re-training after pruning\n",
    "Here we make a new model instance for re-training from the file created above. We then call the ```train``` method of the model to start the re-training.\n",
    "\n",
    "After re-training, we run the ```evaluate``` function again to see how the re-training improved the performance\n",
    "of the model.\n",
    "\n",
    "The re-trained model is then saved to a file appending an 'R' letter (for Re-trained) to the end of the pruned model file name."
   ]
  },
  {
   "cell_type": "code",
   "execution_count": 13,
   "metadata": {},
   "outputs": [
    {
     "name": "stdout",
     "output_type": "stream",
     "text": [
      "\n",
      "Reading from \"Models/LeNet5RRP.fbm\" ... Done.\n",
      "Creating the fireball model \"LeNet-5\" ... Done.\n",
      "\n",
      "Scope            InShape       Comments                 OutShape      Activ.   Post Act.        # of Params\n",
      "---------------  ------------  -----------------------  ------------  -------  ---------------  -----------\n",
      "IN_IMG                         Image Size: 28x28x1      28 28 1       None                      0          \n",
      "L1_CONV          28 28 1       KSP: 5 1 s               14 14 6       ReLU     MP(KSP):2 2 v    111        \n",
      "L2_CONV          14 14 6       KSP: 5 1 v, LR8          5 5 16        ReLU     MP(KSP):2 2 v    856        \n",
      "L3_FC            5 5 16        LR8                      120           ReLU                      2,590      \n",
      "L4_FC            120           LR8                      84            ReLU                      922        \n",
      "L5_FC            84                                     10            None                      545        \n",
      "OUT_CLASS        10            10 classes               10            None                      0          \n",
      "---------------------------------------------------------------------------------------------------------\n",
      "                                                                  Total Number of parameters: 5,024      \n",
      "+--------+---------+---------------+-----------+-------------------+\n",
      "| Epoch  | Batch   | Learning Rate | Loss      | Valid/Test Error  |\n",
      "+--------+---------+---------------+-----------+-------------------+\n",
      "| 1      | 469     | 0.00397214247 | 0.0523123 | N/A         1.45% |\n",
      "| 2      | 938     | 0.00157779141 | 0.0294755 | N/A         1.32% |\n",
      "| 3      | 1407    | 0.00062672124 | 0.0202918 | N/A         1.07% |\n",
      "| 4      | 1876    | 0.00024894258 | 0.0160735 | N/A         1.04% |\n",
      "| 5      | 2345    | 0.00009888354 | 0.0144955 | N/A         1.17% |\n",
      "+--------+---------+---------------+-----------+-------------------+\n",
      "Total Training Time: 126.36 Seconds\n",
      "  Processed 10000 Sample. (Time: 0.94 Sec.)                              \n",
      "\n",
      "Observed Accuracy: 0.988300\n",
      "Expected Accuracy: 0.100356\n",
      "Kappa: 0.986995 (Excellent)\n"
     ]
    }
   ],
   "source": [
    "import os\n",
    "\n",
    "trainDs, testDs = MnistDSet.makeDatasets('train,test', batchSize=128)\n",
    "model = Model.makeFromFile(prunedFileName,\n",
    "                           trainDs=trainDs, testDs=testDs, \n",
    "                           optimizer='Adam',\n",
    "                           numEpochs=5,\n",
    "                           learningRate=(0.01,0.0001),\n",
    "                           gpus='0')\n",
    "model.printLayersInfo()\n",
    "model.initSession()\n",
    "model.train()\n",
    "results = model.evaluate()\n",
    "\n",
    "retrainedFileName = prunedFileName.replace('.fbm', 'R.fbm')  # Append 'R' to the filename for \"Retrained\"\n",
    "model.save(retrainedFileName)"
   ]
  },
  {
   "cell_type": "markdown",
   "metadata": {},
   "source": [
    "## Where do I go from here?\n",
    "\n",
    "[Quantizing LeNet-5 Model](LeNet5-MNIST-Quantize.ipynb)\n",
    "\n",
    "[Exporting LeNet-5 Model to ONNX](LeNet5-MNIST-ONNX.ipynb)\n",
    "\n",
    "[Exporting LeNet-5 Model to TensorFlow](LeNet5-MNIST-TF.ipynb)\n",
    "\n",
    "[Hand-written Didgit Recognition as a Regression problem](Regression.ipynb)\n",
    "________________\n",
    "\n",
    "[Fireball Playgrounds](../Contents.ipynb)\n",
    "\n",
    "[Handwritten Digit Recognition (LeNet-5/MNIST)](LeNet5-MNIST.ipynb)\n",
    "\n",
    "[Reducing number of parameters of LeNet-5 Model](LeNet5-MNIST-Reduce.ipynb)\n",
    "\n"
   ]
  },
  {
   "cell_type": "code",
   "execution_count": null,
   "metadata": {},
   "outputs": [],
   "source": []
  }
 ],
 "metadata": {
  "kernelspec": {
   "display_name": "Python 3 (ipykernel)",
   "language": "python",
   "name": "python3"
  },
  "language_info": {
   "codemirror_mode": {
    "name": "ipython",
    "version": 3
   },
   "file_extension": ".py",
   "mimetype": "text/x-python",
   "name": "python",
   "nbconvert_exporter": "python",
   "pygments_lexer": "ipython3",
   "version": "3.7.9"
  }
 },
 "nbformat": 4,
 "nbformat_minor": 4
}
