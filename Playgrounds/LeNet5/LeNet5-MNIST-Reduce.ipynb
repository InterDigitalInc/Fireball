{
 "cells": [
  {
   "cell_type": "markdown",
   "metadata": {},
   "source": [
    "# Reducing number of parameters (LeNet-5)\n",
    "This notebook shows how to reduce the number of parameters of a network. It assumes \n",
    "that a trained LeNet-5 model already exists in the ```Models``` directory. You can use the \n",
    "notebook [Handwritten Digit recognition (LeNet-5/MNIST)](LeNet5-MNIST.ipynb) to create and train a LeNet-5 model."
   ]
  },
  {
   "cell_type": "markdown",
   "metadata": {},
   "source": [
    "## Load the pretrained model"
   ]
  },
  {
   "cell_type": "code",
   "execution_count": 1,
   "metadata": {},
   "outputs": [
    {
     "name": "stdout",
     "output_type": "stream",
     "text": [
      "\n",
      "Reading from \"Models/LeNet5.fbm\" ... Done.\n",
      "Creating the fireball model \"LeNet-5\" ... Done.\n",
      "\n",
      "Scope            InShape       Comments                 OutShape      Activ.   Post Act.        # of Params\n",
      "---------------  ------------  -----------------------  ------------  -------  ---------------  -----------\n",
      "IN_IMG                         Image Size: 28x28x1      28 28 1       None                      0          \n",
      "L1_CONV          28 28 1       KSP: 5 1 s               14 14 6       ReLU     MP(KSP):2 2 v    156        \n",
      "L2_CONV          14 14 6       KSP: 5 1 v               5 5 16        ReLU     MP(KSP):2 2 v    2,416      \n",
      "L3_FC            5 5 16                                 120           ReLU                      48,120     \n",
      "L4_FC            120                                    84            ReLU                      10,164     \n",
      "L5_FC            84                                     10            None                      850        \n",
      "OUT_CLASS        10            10 classes               10            None                      0          \n",
      "---------------------------------------------------------------------------------------------------------\n",
      "                                                                  Total Number of parameters: 61,706     \n"
     ]
    }
   ],
   "source": [
    "from fireball import Model\n",
    "\n",
    "model = Model.makeFromFile(\"Models/LeNet5.fbm\", gpus='0')   \n",
    "model.initSession()\n",
    "model.printLayersInfo()\n"
   ]
  },
  {
   "cell_type": "markdown",
   "metadata": {},
   "source": [
    "## Reducing number of parameters\n",
    "Here we apply Low-Rank Decomposition on different layers of the model to reduce the number of parameters. We first create a list of layers we want to apply Low-Rank Decomposition, specify our tolerance (MSE), and pass this information to the [createLrModel](https://interdigitalinc.github.io/Fireball/html/source/model.html#fireball.model.Model.createLrModel) method. This creates the new fireball model saved to the file LeNet5R.fbm."
   ]
  },
  {
   "cell_type": "code",
   "execution_count": 2,
   "metadata": {},
   "outputs": [
    {
     "name": "stdout",
     "output_type": "stream",
     "text": [
      "Now reducing number of network parameters ... \n",
      "  L2_CONV => LR(8), MSE=0.007843, Shape: (150, 16), Params: 2400->1328 (Reduction: 44.7%)\n",
      "  L3_FC => LR(8), MSE=0.006996, Params: 48000->4160 (Reduction: 91.3%)\n",
      "  L4_FC => LR(8), MSE=0.007918, Params: 10080->1632 (Reduction: 83.8%)\n",
      "Total New Parameters: 8,346\n",
      "Done. (0.17 Seconds)\n"
     ]
    }
   ],
   "source": [
    "import time\n",
    "\n",
    "layers = ['L2_CONV','L3_FC','L4_FC']\n",
    "mse = 0.01\n",
    "layerParams = [ (layer, mse) for layer in layers]\n",
    "\n",
    "print('Now reducing number of network parameters ... ')\n",
    "t0 = time.time()\n",
    "model.createLrModel(\"Models/LeNet5R.fbm\", layerParams)\n",
    "print('Done. (%.2f Seconds)'%(time.time()-t0))"
   ]
  },
  {
   "cell_type": "markdown",
   "metadata": {},
   "source": [
    "## Evaluating the new model\n",
    "Compare the new number of parameters with the original 61,706. Let's see the impact of this reduction to the performance of the model."
   ]
  },
  {
   "cell_type": "code",
   "execution_count": 3,
   "metadata": {},
   "outputs": [
    {
     "name": "stdout",
     "output_type": "stream",
     "text": [
      "\n",
      "Reading from \"Models/LeNet5R.fbm\" ... Done.\n",
      "Creating the fireball model \"LeNet-5\" ... Done.\n",
      "\n",
      "Scope            InShape       Comments                 OutShape      Activ.   Post Act.        # of Params\n",
      "---------------  ------------  -----------------------  ------------  -------  ---------------  -----------\n",
      "IN_IMG                         Image Size: 28x28x1      28 28 1       None                      0          \n",
      "L1_CONV          28 28 1       KSP: 5 1 s               14 14 6       ReLU     MP(KSP):2 2 v    156        \n",
      "L2_CONV          14 14 6       KSP: 5 1 v, LR8          5 5 16        ReLU     MP(KSP):2 2 v    1,344      \n",
      "L3_FC            5 5 16        LR8                      120           ReLU                      4,280      \n",
      "L4_FC            120           LR8                      84            ReLU                      1,716      \n",
      "L5_FC            84                                     10            None                      850        \n",
      "OUT_CLASS        10            10 classes               10            None                      0          \n",
      "---------------------------------------------------------------------------------------------------------\n",
      "                                                                  Total Number of parameters: 8,346      \n",
      "  Processed 10000 Sample. (Time: 1.59 Sec.)                              \n",
      "\n",
      "Observed Accuracy:  0.8633\n",
      "Expected Accuracy: 0.098709\n",
      "Kappa: 0.848329 (Excellent)\n"
     ]
    }
   ],
   "source": [
    "from fireball.datasets.mnist import MnistDSet\n",
    "\n",
    "testDs = MnistDSet.makeDatasets('test', batchSize=128)\n",
    "\n",
    "model = Model.makeFromFile(\"Models/LeNet5R.fbm\", testDs=testDs, gpus='0')   \n",
    "model.printLayersInfo()\n",
    "model.initSession()\n",
    "results = model.evaluate()"
   ]
  },
  {
   "cell_type": "markdown",
   "metadata": {},
   "source": [
    "## Re-training after parameter reduction\n",
    "Here we make a new model object from the file created above. We then call the [train](https://interdigitalinc.github.io/Fireball/html/source/model.html#fireball.model.Model.train) method of the model to start the re-training.\n",
    "\n",
    "After re-training, we run the [evaluateDSet](https://interdigitalinc.github.io/Fireball/html/source/model.html#fireball.model.Model.evaluateDSet) function to see how re-training improves the performance\n",
    "of the model.\n",
    "\n",
    "The following code also shows how to save the model during the training. Here we save the model at the end of every epoch (```savePeriod=1```). Setting ```saveBest``` to ```True``` makes this function to keep a copy of the best model so far in a file with a different name."
   ]
  },
  {
   "cell_type": "code",
   "execution_count": 4,
   "metadata": {},
   "outputs": [
    {
     "name": "stdout",
     "output_type": "stream",
     "text": [
      "\n",
      "Reading from \"Models/LeNet5R.fbm\" ... Done.\n",
      "Creating the fireball model \"LeNet-5\" ... Done.\n",
      "\n",
      "Scope            InShape       Comments                 OutShape      Activ.   Post Act.        # of Params\n",
      "---------------  ------------  -----------------------  ------------  -------  ---------------  -----------\n",
      "IN_IMG                         Image Size: 28x28x1      28 28 1       None                      0          \n",
      "L1_CONV          28 28 1       KSP: 5 1 s               14 14 6       ReLU     MP(KSP):2 2 v    156        \n",
      "L2_CONV          14 14 6       KSP: 5 1 v, LR8          5 5 16        ReLU     MP(KSP):2 2 v    1,344      \n",
      "L3_FC            5 5 16        LR8                      120           ReLU                      4,280      \n",
      "L4_FC            120           LR8                      84            ReLU                      1,716      \n",
      "L5_FC            84                                     10            None                      850        \n",
      "OUT_CLASS        10            10 classes               10            None                      0          \n",
      "---------------------------------------------------------------------------------------------------------\n",
      "                                                                  Total Number of parameters: 8,346      \n",
      "+--------+---------+---------------+-----------+-------------------+\n",
      "| Epoch  | Batch   | Learning Rate | Loss      | Valid/Test Error  |\n",
      "+--------+---------+---------------+-----------+-------------------+\n",
      "| 1      | 421     | 0.00397214247 | 0.0807423 |    1.57% N/A      |\n",
      "| 2      | 843     | 0.00157779141 | 0.0363832 |    1.48% N/A      |\n",
      "| 3      | 1265    | 0.00059538509 | 0.0236855 |    1.40% N/A      |\n",
      "| 4      | 1687    | 0.00023649544 | 0.0173666 |    1.37% N/A      |\n",
      "| 5      | 2109    | 0.00009393936 | 0.0152248 |    1.33% N/A      |\n",
      "+--------+---------+---------------+-----------+-------------------+\n",
      "Total Training Time: 9.41 Seconds\n",
      "  Processed 10000 Sample. (Time: 0.15 Sec.)                              \n",
      "\n",
      "Observed Accuracy:  0.9917\n",
      "Expected Accuracy: 0.100354\n",
      "Kappa: 0.990774 (Excellent)\n"
     ]
    }
   ],
   "source": [
    "import os\n",
    "if os.path.exists( \"Models/LeNet5RR.fbm\" ):\n",
    "    os.remove( \"Models/LeNet5RR.fbm\" )    # Delete the model if it already exists\n",
    "\n",
    "trainDs, validDs, testDs = MnistDSet.makeDatasets('train,valid,test', batchSize=128)\n",
    "\n",
    "model = Model.makeFromFile(\"Models/LeNet5R.fbm\",\n",
    "                           trainDs=trainDs, validationDs=validDs, \n",
    "                           optimizer='Adam',\n",
    "                           numEpochs=5,\n",
    "                           learningRate=(0.01,0.0001),\n",
    "                           saveModelFileName=\"Models/LeNet5RR.fbm\",  # Save the re-training ...\n",
    "                           savePeriod=1, saveBest=False,             # ... every epoch\n",
    "                           gpus='0')\n",
    "model.printLayersInfo()\n",
    "model.initSession()\n",
    "model.train()\n",
    "results = model.evaluateDSet(testDs)"
   ]
  },
  {
   "cell_type": "markdown",
   "metadata": {},
   "source": [
    "## Also look at\n",
    "\n",
    "[Pruning LeNet-5 Model](LeNet5-MNIST-Prune.ipynb)\n",
    "\n",
    "[Quantizing LeNet-5 Model](LeNet5-MNIST-Quantize.ipynb)\n",
    "\n",
    "[Exporting LeNet-5 Model to ONNX](LeNet5-MNIST-ONNX.ipynb)\n",
    "\n",
    "[Exporting LeNet-5 Model to TensorFlow](LeNet5-MNIST-TF.ipynb)\n",
    "\n",
    "[Hand-written Didgit Recognition as a Regression problem](Regression.ipynb)\n",
    "________________\n",
    "\n",
    "[Fireball Playgrounds](../Contents.ipynb)\n",
    "\n",
    "[Handwritten Digit Recognition (LeNet-5/MNIST)](LeNet5-MNIST.ipynb)\n"
   ]
  },
  {
   "cell_type": "code",
   "execution_count": null,
   "metadata": {},
   "outputs": [],
   "source": []
  }
 ],
 "metadata": {
  "kernelspec": {
   "display_name": "Python 3 (ipykernel)",
   "language": "python",
   "name": "python3"
  },
  "language_info": {
   "codemirror_mode": {
    "name": "ipython",
    "version": 3
   },
   "file_extension": ".py",
   "mimetype": "text/x-python",
   "name": "python",
   "nbconvert_exporter": "python",
   "pygments_lexer": "ipython3",
   "version": "3.9.16"
  }
 },
 "nbformat": 4,
 "nbformat_minor": 4
}
