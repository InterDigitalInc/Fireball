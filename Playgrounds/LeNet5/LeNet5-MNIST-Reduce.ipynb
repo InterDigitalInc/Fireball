{
 "cells": [
  {
   "cell_type": "markdown",
   "metadata": {},
   "source": [
    "# Reducing number of parameters (LeNet-5)\n",
    "This notebook shows how to reduce the number of parameters of a network. It assumes \n",
    "that a trained LeNet-5 model already exists in the ```Models``` directory. You can use the \n",
    "notebook [Handwritten Digit recognition (LeNet-5/MNIST)](LeNet5-MNIST.ipynb) to create and train a LeNet-5 model."
   ]
  },
  {
   "cell_type": "markdown",
   "metadata": {},
   "source": [
    "## Load the pretrained model"
   ]
  },
  {
   "cell_type": "code",
   "execution_count": 1,
   "metadata": {},
   "outputs": [
    {
     "name": "stdout",
     "output_type": "stream",
     "text": [
      "\n",
      "Reading from \"Models/LeNet5.fbm\" ... Done.\n",
      "Creating the fireball model \"LeNet-5\" ... Done.\n",
      "\n",
      "Scope            InShape       Comments                 OutShape      Activ.   Post Act.        # of Params\n",
      "---------------  ------------  -----------------------  ------------  -------  ---------------  -----------\n",
      "IN_IMG                         Image Size: 28x28x1      28 28 1       None                      0          \n",
      "L1_CONV          28 28 1       KSP: 5 1 s               14 14 6       ReLU     MP(KSP):2 2 v    156        \n",
      "L2_CONV          14 14 6       KSP: 5 1 v               5 5 16        ReLU     MP(KSP):2 2 v    2,416      \n",
      "L3_FC            5 5 16                                 120           ReLU                      48,120     \n",
      "L4_FC            120                                    84            ReLU                      10,164     \n",
      "L5_FC            84                                     10            None                      850        \n",
      "OUT_CLASS        10            10 classes               10            None                      0          \n",
      "---------------------------------------------------------------------------------------------------------\n",
      "                                                                  Total Number of parameters: 61,706     \n"
     ]
    }
   ],
   "source": [
    "from fireball import Model\n",
    "\n",
    "model = Model.makeFromFile(\"Models/LeNet5.fbm\", gpus='0')   \n",
    "model.initSession()\n",
    "model.printLayersInfo()\n"
   ]
  },
  {
   "cell_type": "markdown",
   "metadata": {},
   "source": [
    "## Reducing number of parameters\n",
    "Here we apply Low-Rank Decomposition on different layers of the model to reduce the number of parameters. We first create a list of layers we want to apply Low-Rank Decomposition, specify our tolerance (MSE), and pass this information to the createLrModel method. This creates the new fireball model saved to the file LeNet5R.fbm."
   ]
  },
  {
   "cell_type": "code",
   "execution_count": 2,
   "metadata": {},
   "outputs": [
    {
     "name": "stdout",
     "output_type": "stream",
     "text": [
      "Now reducing number of network parameters ... \n",
      "  L2_CONV => LR(8), MSE=0.007106, Shape: (150, 16), Params: 2400->1328 (Reduction: 44.7%)\n",
      "  L3_FC => LR(8), MSE=0.007214, Params: 48000->4160 (Reduction: 91.3%)\n",
      "  L4_FC => LR(8), MSE=0.008058, Params: 10080->1632 (Reduction: 83.8%)\n",
      "Total New Parameters: 8,346\n",
      "Done. (0.06 Seconds)\n"
     ]
    }
   ],
   "source": [
    "import time\n",
    "\n",
    "layers = ['L2_CONV','L3_FC','L4_FC']\n",
    "mse = 0.01\n",
    "layerParams = [ (layer, mse) for layer in layers]\n",
    "\n",
    "print('Now reducing number of network parameters ... ')\n",
    "t0 = time.time()\n",
    "model.createLrModel(\"Models/LeNet5R.fbm\", layerParams)\n",
    "print('Done. (%.2f Seconds)'%(time.time()-t0))"
   ]
  },
  {
   "cell_type": "markdown",
   "metadata": {},
   "source": [
    "## Evaluating the new model\n",
    "Compare the new number of parameters with the original 61,706. Let's see the impact of this reduction to the performance of the model."
   ]
  },
  {
   "cell_type": "code",
   "execution_count": 3,
   "metadata": {},
   "outputs": [
    {
     "name": "stdout",
     "output_type": "stream",
     "text": [
      "\n",
      "Reading from \"Models/LeNet5R.fbm\" ... Done.\n",
      "Creating the fireball model \"LeNet-5\" ... Done.\n",
      "\n",
      "Scope            InShape       Comments                 OutShape      Activ.   Post Act.        # of Params\n",
      "---------------  ------------  -----------------------  ------------  -------  ---------------  -----------\n",
      "IN_IMG                         Image Size: 28x28x1      28 28 1       None                      0          \n",
      "L1_CONV          28 28 1       KSP: 5 1 s               14 14 6       ReLU     MP(KSP):2 2 v    156        \n",
      "L2_CONV          14 14 6       KSP: 5 1 v, LR8          5 5 16        ReLU     MP(KSP):2 2 v    1,344      \n",
      "L3_FC            5 5 16        LR8                      120           ReLU                      4,280      \n",
      "L4_FC            120           LR8                      84            ReLU                      1,716      \n",
      "L5_FC            84                                     10            None                      850        \n",
      "OUT_CLASS        10            10 classes               10            None                      0          \n",
      "---------------------------------------------------------------------------------------------------------\n",
      "                                                                  Total Number of parameters: 8,346      \n",
      "  Processed 10000 Sample. (Time: 1.23 Sec.)                              \n",
      "\n",
      "Observed Accuracy: 0.855400\n",
      "Expected Accuracy: 0.098674\n",
      "Kappa: 0.839570 (Excellent)\n"
     ]
    }
   ],
   "source": [
    "from fireball.datasets.mnist import MnistDSet\n",
    "\n",
    "testDs = MnistDSet.makeDatasets('test', batchSize=128)\n",
    "\n",
    "model = Model.makeFromFile(\"Models/LeNet5R.fbm\", testDs=testDs, gpus='0')   \n",
    "model.printLayersInfo()\n",
    "model.initSession()\n",
    "results = model.evaluate()"
   ]
  },
  {
   "cell_type": "markdown",
   "metadata": {},
   "source": [
    "## Re-training after parameter reduction\n",
    "Here we make a new reduced-parameter model from the file created above for re-training. We then call the ```train``` method of the model to start the re-training.\n",
    "\n",
    "After re-training, we run the ```evaluate``` function again to see how the re-training improved the performance\n",
    "of the model.\n",
    "\n",
    "If the trained model ```LeNet5RR.fbm``` is already available in the ```Models``` directory, this cell just shows the results of last training. If you want to force it to do the training again, you can un-remark the line at the beginning of the cell to delete the existing file."
   ]
  },
  {
   "cell_type": "code",
   "execution_count": 4,
   "metadata": {},
   "outputs": [
    {
     "name": "stdout",
     "output_type": "stream",
     "text": [
      "\n",
      "Reading from \"Models/LeNet5R.fbm\" ... Done.\n",
      "Creating the fireball model \"LeNet-5\" ... Done.\n",
      "\n",
      "Scope            InShape       Comments                 OutShape      Activ.   Post Act.        # of Params\n",
      "---------------  ------------  -----------------------  ------------  -------  ---------------  -----------\n",
      "IN_IMG                         Image Size: 28x28x1      28 28 1       None                      0          \n",
      "L1_CONV          28 28 1       KSP: 5 1 s               14 14 6       ReLU     MP(KSP):2 2 v    156        \n",
      "L2_CONV          14 14 6       KSP: 5 1 v, LR8          5 5 16        ReLU     MP(KSP):2 2 v    1,344      \n",
      "L3_FC            5 5 16        LR8                      120           ReLU                      4,280      \n",
      "L4_FC            120           LR8                      84            ReLU                      1,716      \n",
      "L5_FC            84                                     10            None                      850        \n",
      "OUT_CLASS        10            10 classes               10            None                      0          \n",
      "---------------------------------------------------------------------------------------------------------\n",
      "                                                                  Total Number of parameters: 8,346      \n",
      "+--------+---------+---------------+-----------+-------------------+\n",
      "| Epoch  | Batch   | Learning Rate | Loss      | Valid/Test Error  |\n",
      "+--------+---------+---------------+-----------+-------------------+\n",
      "| 1      | 469     | 0.00397214247 | 0.0834193 | N/A         1.67% |\n",
      "| 2      | 938     | 0.00157779141 | 0.0383795 | N/A         1.07% |\n",
      "| 3      | 1407    | 0.00062672124 | 0.0240361 | N/A         1.03% |\n",
      "| 4      | 1876    | 0.00024894258 | 0.0185828 | N/A         1.00% |\n",
      "| 5      | 2345    | 0.00009888354 | 0.0162053 | N/A         0.99% |\n",
      "+--------+---------+---------------+-----------+-------------------+\n",
      "Total Training Time: 90.52 Seconds\n",
      "  Processed 10000 Sample. (Time: 1.01 Sec.)                              \n",
      "\n",
      "Observed Accuracy: 0.990100\n",
      "Expected Accuracy: 0.100349\n",
      "Kappa: 0.988996 (Excellent)\n"
     ]
    }
   ],
   "source": [
    "import os\n",
    "if os.path.exists( \"Models/LeNet5RR.fbm\" ): os.remove( \"Models/LeNet5RR.fbm\" )\n",
    "\n",
    "trainDs, testDs = MnistDSet.makeDatasets('train,test', batchSize=128)\n",
    "\n",
    "model = Model.makeFromFile(\"Models/LeNet5R.fbm\",\n",
    "                           trainDs=trainDs, testDs=testDs, \n",
    "                           optimizer='Adam',\n",
    "                           numEpochs=5,\n",
    "                           learningRate=(0.01,0.0001),\n",
    "                           saveModelFileName=\"Models/LeNet5RR.fbm\",  # Save the re-training ...\n",
    "                           savePeriod=1, saveBest=False,             # ... every epoch\n",
    "                           gpus='0')\n",
    "model.printLayersInfo()\n",
    "model.initSession()\n",
    "model.train()\n",
    "results = model.evaluate()"
   ]
  },
  {
   "cell_type": "markdown",
   "metadata": {},
   "source": [
    "## Where do I go from here?\n",
    "\n",
    "[Pruning LeNet-5 Model](LeNet5-MNIST-Prune.ipynb)\n",
    "\n",
    "[Quantizing LeNet-5 Model](LeNet5-MNIST-Quantize.ipynb)\n",
    "\n",
    "[Exporting LeNet-5 Model to ONNX](LeNet5-MNIST-ONNX.ipynb)\n",
    "\n",
    "[Exporting LeNet-5 Model to TensorFlow](LeNet5-MNIST-TF.ipynb)\n",
    "\n",
    "[Hand-written Didgit Recognition as a Regression problem](Regression.ipynb)\n",
    "________________\n",
    "\n",
    "[Fireball Playgrounds](../Contents.ipynb)\n",
    "\n",
    "[Handwritten Digit Recognition (LeNet-5/MNIST)](LeNet5-MNIST.ipynb)\n"
   ]
  },
  {
   "cell_type": "code",
   "execution_count": null,
   "metadata": {},
   "outputs": [],
   "source": []
  }
 ],
 "metadata": {
  "kernelspec": {
   "display_name": "Python 3",
   "language": "python",
   "name": "python3"
  },
  "language_info": {
   "codemirror_mode": {
    "name": "ipython",
    "version": 3
   },
   "file_extension": ".py",
   "mimetype": "text/x-python",
   "name": "python",
   "nbconvert_exporter": "python",
   "pygments_lexer": "ipython3",
   "version": "3.6.9"
  }
 },
 "nbformat": 4,
 "nbformat_minor": 4
}
