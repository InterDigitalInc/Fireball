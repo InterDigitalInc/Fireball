{
 "cells": [
  {
   "cell_type": "markdown",
   "metadata": {},
   "source": [
    "# Handwritten Digit Recognition with LeNet-5 and MNIST\n",
    "In this simple playground we First use Fireball APIs to creare an MNIST dataset (https://en.wikipedia.org/wiki/MNIST_database) and a LeNet-5 (http://yann.lecun.com/exdb/lenet/) \n",
    "network. We then train the model using the training dataset and evaluate the model using\n",
    "the test dataset.\n",
    "\n",
    "## Create a MNIST dataset\n",
    "Let's first load the MNIST dataset and review the dataset statistics."
   ]
  },
  {
   "cell_type": "code",
   "execution_count": 1,
   "metadata": {},
   "outputs": [
    {
     "name": "stdout",
     "output_type": "stream",
     "text": [
      "Downloading from \"https://fireball.s3.us-west-1.amazonaws.com/data/mnist/mnist.zip\" ...\n",
      "Extracting \"/Users/shahab/data/mnist/mnist.zip\" ...\n",
      "Deleting \"/Users/shahab/data/mnist/mnist.zip\" ...\n",
      "MnistDSet Dataset Info:\n",
      "    Number of Classes .............................. 10\n",
      "    Dataset Location ............................... /Users/shahab/data/mnist/\n",
      "    Number of Training Samples ..................... 54000\n",
      "    Number of Test Samples ......................... 6000\n",
      "    Number of Validation Samples ................... 10000\n",
      "    Sample Shape ................................... (28, 28, 1)\n",
      "    +-------+------------------+--------------------+---------------+\n",
      "    | Class | Training Samples | Validation Samples | Test Samples  |\n",
      "    +-------+------------------+--------------------+---------------+\n",
      "    | 0     | 5331       9.87% | 980          9.80% | 592     9.87% |\n",
      "    | 1     | 6068      11.24% | 1135        11.35% | 674    11.23% |\n",
      "    | 2     | 5362       9.93% | 1032        10.32% | 596     9.93% |\n",
      "    | 3     | 5518      10.22% | 1010        10.10% | 613    10.22% |\n",
      "    | 4     | 5258       9.74% | 982          9.82% | 584     9.73% |\n",
      "    | 5     | 4879       9.04% | 892          8.92% | 542     9.03% |\n",
      "    | 6     | 5326       9.86% | 958          9.58% | 592     9.87% |\n",
      "    | 7     | 5638      10.44% | 1028        10.28% | 627    10.45% |\n",
      "    | 8     | 5266       9.75% | 974          9.74% | 585     9.75% |\n",
      "    | 9     | 5354       9.91% | 1009        10.09% | 595     9.92% |\n",
      "    +-------+------------------+--------------------+---------------+\n",
      "    | Total | 54000     77.14% | 10000       14.29% | 6000    8.57% |\n",
      "    +-------+------------------+--------------------+---------------+\n"
     ]
    }
   ],
   "source": [
    "import numpy as np\n",
    "import time, os\n",
    "from fireball import Model, myPrint\n",
    "from fireball.datasets.mnist import MnistDSet\n",
    "gpus = '0'\n",
    "\n",
    "MnistDSet.download()\n",
    "\n",
    "trainDs, validDs, testDs = MnistDSet.makeDatasets('train,valid,test', batchSize=128)\n",
    "MnistDSet.printDsInfo(trainDs, validDs, testDs)\n",
    "MnistDSet.printStats(trainDs, validDs, testDs)"
   ]
  },
  {
   "cell_type": "markdown",
   "metadata": {},
   "source": [
    "## Create a LeNet-5 Fireball model and train on MNIST\n",
    "Now let's create a LeNet-5 fireball model using the text string ```layersInfo``` to specify network structure.\n",
    "For a complete explanation of the available layers and their syntax, please refer to [the layers documentation](https://interdigitalinc.github.io/Fireball/html/source/layers.html)."
   ]
  },
  {
   "cell_type": "code",
   "execution_count": 2,
   "metadata": {
    "scrolled": false
   },
   "outputs": [
    {
     "name": "stdout",
     "output_type": "stream",
     "text": [
      "\n",
      "Scope            InShape       Comments                 OutShape      Activ.   Post Act.        # of Params\n",
      "---------------  ------------  -----------------------  ------------  -------  ---------------  -----------\n",
      "IN_IMG                         Image Size: 28x28x1      28 28 1       None                      0          \n",
      "L1_CONV          28 28 1       KSP: 5 1 s               14 14 6       ReLU     MP(KSP):2 2 v    156        \n",
      "L2_CONV          14 14 6       KSP: 5 1 v               5 5 16        ReLU     MP(KSP):2 2 v    2,416      \n",
      "L3_FC            5 5 16                                 120           ReLU                      48,120     \n",
      "L4_FC            120                                    84            ReLU                      10,164     \n",
      "L5_FC            84                                     10            None                      850        \n",
      "OUT_CLASS        10            10 classes               10            None                      0          \n",
      "---------------------------------------------------------------------------------------------------------\n",
      "                                                                  Total Number of parameters: 61,706     \n",
      "\n",
      "Network configuration:\n",
      "  Input:                     Monochrome images of size 28x28\n",
      "  Output:                    Probability distributions for 10 classes.\n",
      "  Network Layers:            7\n",
      "  Tower Devices:             GPU0\n",
      "  Total Network Parameters:  61,706\n",
      "  Total Parameter Tensors:   10\n",
      "  Trainable Tensors:         10\n",
      "  Training Samples:          54,000\n",
      "  Validation Samples:        6,000\n",
      "  Num Epochs:                5\n",
      "  Batch Size:                128\n",
      "  L2 Reg. Factor:            0     \n",
      "  Global Drop Rate:          0   \n",
      "  Learning Rate: (Exponential Decay)\n",
      "    Initial Value:           0.01         \n",
      "    Final Value:             0.001        \n",
      "  Optimizer:                 Adam\n",
      "\n",
      "Metal device set to: Apple M1 Max\n",
      "+--------+---------+---------------+-----------+-------------------+\n",
      "| Epoch  | Batch   | Learning Rate | Loss      | Valid/Test Error  |\n",
      "+--------+---------+---------------+-----------+-------------------+\n",
      "| 1      | 421     | 0.00630249316 | 0.1614443 |    1.82% N/A      |\n",
      "| 2      | 843     | 0.00397214247 | 0.0464282 |    1.35% N/A      |\n",
      "| 3      | 1265    | 0.00250344002 | 0.0284977 |    1.33% N/A      |\n",
      "| 4      | 1687    | 0.00157779141 | 0.0164033 |    1.13% N/A      |\n",
      "| 5      | 2109    | 0.00099440198 | 0.0098831 |    1.03% N/A      |\n",
      "+--------+---------+---------------+-----------+-------------------+\n",
      "Total Training Time: 35.54 Seconds\n"
     ]
    }
   ],
   "source": [
    "# Here we define the LeNet-5 network which has 2 convolutional layers followed by 3 fully connected layers\n",
    "layersInfo = ('IMG_S28_D1,' +                 # The input layer takes a 28x28 image of depth 1 (monochrome)\n",
    "              'CONV_K5_O6_Ps:ReLU:MP_K2,' +   # Conv, Kernel size 5, 6 out channels, \"same\" padding, ReLU, Max pool\n",
    "              'CONV_K5_O16_Pv:ReLU:MP_K2,' +  # Conv, Kernel size 5, 16 out channels, \"valid\" padding, ReLU, Max pool\n",
    "              'FC_O120:ReLU,FC_O84:ReLU,FC_O10:None,' +   # 3 fully connected layers\n",
    "              'CLASS_C10')                    # Output layer provides probabilities for each one of 10 classes\n",
    "\n",
    "model = Model('LeNet-5', layersInfo = layersInfo,\n",
    "              trainDs=trainDs, validationDs=validDs, # Train and validation datasets are given to the model\n",
    "              optimizer = 'Adam',\n",
    "              numEpochs = 5,\n",
    "              learningRate = (0.01,0.001),    # Learning rate starts at 0.01 and exponentially decays to 0.001\n",
    "              gpus=gpus)\n",
    "\n",
    "model.printLayersInfo()\n",
    "model.printNetConfig()\n",
    "model.initSession()\n",
    "model.train()"
   ]
  },
  {
   "cell_type": "markdown",
   "metadata": {},
   "source": [
    "## Evaluating the model\n",
    "Now that we have a trained model, let's run inference on all test samples in the test dataset and compares the results with the ground-truth. The ```evaluateDSet``` function does exactly this."
   ]
  },
  {
   "cell_type": "code",
   "execution_count": 3,
   "metadata": {
    "scrolled": false
   },
   "outputs": [
    {
     "name": "stdout",
     "output_type": "stream",
     "text": [
      "  Processed 10000 Sample. (Time: 0.48 Sec.)                              \n",
      "\n",
      "Observed Accuracy: 0.991700\n",
      "Expected Accuracy: 0.100354\n",
      "Kappa: 0.990774 (Excellent)\n"
     ]
    }
   ],
   "source": [
    "results = model.evaluateDSet(testDs)"
   ]
  },
  {
   "cell_type": "markdown",
   "metadata": {},
   "source": [
    "## Save the model to the ```Models``` directory"
   ]
  },
  {
   "cell_type": "code",
   "execution_count": 4,
   "metadata": {},
   "outputs": [],
   "source": [
    "model.save(\"Models/LeNet5.fbm\")"
   ]
  },
  {
   "cell_type": "markdown",
   "metadata": {},
   "source": [
    "## Where do I go from here?\n",
    "\n",
    "[Reducing number of parameters of LeNet-5 Model](LeNet5-MNIST-Reduce.ipynb)\n",
    "\n",
    "[Pruning LeNet-5 Model](LeNet5-MNIST-Prune.ipynb)\n",
    "\n",
    "[Quantizing the LeNet-5 Model](LeNet5-MNIST-Quantize.ipynb)\n",
    "\n",
    "[Exporting LeNet-5 Model to ONNX](LeNet5-MNIST-ONNX.ipynb)\n",
    "\n",
    "[Exporting LeNet-5 Model to CoreML](LeNet5-MNIST-CoreML.ipynb)\n",
    "\n",
    "[Exporting LeNet-5 Model to TensorFlow](LeNet5-MNIST-TF.ipynb)\n",
    "\n",
    "[Hand-written Didgit Recognition as a Regression problem](Regression.ipynb)\n",
    "\n",
    "---\n",
    "\n",
    "[Fireball Playgrounds](../Contents.ipynb)\n"
   ]
  },
  {
   "cell_type": "code",
   "execution_count": null,
   "metadata": {},
   "outputs": [],
   "source": []
  }
 ],
 "metadata": {
  "kernelspec": {
   "display_name": "Python 3 (ipykernel)",
   "language": "python",
   "name": "python3"
  },
  "language_info": {
   "codemirror_mode": {
    "name": "ipython",
    "version": 3
   },
   "file_extension": ".py",
   "mimetype": "text/x-python",
   "name": "python",
   "nbconvert_exporter": "python",
   "pygments_lexer": "ipython3",
   "version": "3.9.7"
  }
 },
 "nbformat": 4,
 "nbformat_minor": 4
}
