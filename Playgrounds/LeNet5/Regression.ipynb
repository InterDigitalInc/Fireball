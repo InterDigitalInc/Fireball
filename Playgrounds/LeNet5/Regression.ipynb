{
 "cells": [
  {
   "cell_type": "markdown",
   "metadata": {},
   "source": [
    "## Hand-written Digit Recognition as a Regression problem\n",
    "This notebook uses Fireball to creare a regression model. The input to the model is a 28x28 monochrome image from MNIST dataset. The output is the predicted value of the model as a single number. Note that the model does not classify the image. It predicts a floating point value.\n",
    "\n",
    "This notebook also shows how to subclass a Fireball dataset class. We want the labels in the MNIST dataset to be a floating point value.\n",
    "\n",
    "## Subclassing the MNIST dataset"
   ]
  },
  {
   "cell_type": "code",
   "execution_count": 1,
   "metadata": {},
   "outputs": [
    {
     "name": "stdout",
     "output_type": "stream",
     "text": [
      "RegMnistDSet Dataset Info:\n",
      "    Dataset Location ............................... /data/mnist/\n",
      "    Number of Training Samples ..................... 60000\n",
      "    Number of Test Samples ......................... 10000\n",
      "    Sample Shape ................................... (28, 28, 1)\n"
     ]
    }
   ],
   "source": [
    "import numpy as np\n",
    "import os\n",
    "\n",
    "from fireball import Model\n",
    "from fireball.datasets.mnist import MnistDSet\n",
    "\n",
    "\n",
    "# Subclassing the original MNIST dataset:\n",
    "class RegMnistDSet(MnistDSet):\n",
    "    # ******************************************************************************************************************\n",
    "    @classmethod\n",
    "    def postMakeDatasets(cls):\n",
    "        # This is called at the end of a call to makeDatasets\n",
    "        cls.numClasses = 0   # Make this a regression dataset\n",
    "        cls.evalMetricName = 'MSE'\n",
    "    # ******************************************************************************************************************\n",
    "    def getBatch(self, batchIndexes):\n",
    "        return self.samples[batchIndexes], np.float32(self.labels[batchIndexes]) # Return labels as float32\n",
    "\n",
    "trainDs, testDs = RegMnistDSet.makeDatasets('train,test', batchSize=128)\n",
    "RegMnistDSet.printDsInfo(trainDs, testDs)\n"
   ]
  },
  {
   "cell_type": "markdown",
   "metadata": {},
   "source": [
    "## Create a \"Regression LeNet-5\" Fireball model and train it on our \"RegMnistDSet\"\n",
    "Now let's create a Regression LeNet-5 fireball model using the text string ```layersInfo``` to specify network structure."
   ]
  },
  {
   "cell_type": "code",
   "execution_count": 2,
   "metadata": {},
   "outputs": [
    {
     "name": "stdout",
     "output_type": "stream",
     "text": [
      "\n",
      "Scope            InShape       Comments                 OutShape      Activ.   Post Act.        # of Params\n",
      "---------------  ------------  -----------------------  ------------  -------  ---------------  -----------\n",
      "IN_IMG                         Image Size: 28x28x1      28 28 1       None                      0          \n",
      "L1_CONV          28 28 1       KSP: 5 1 s               14 14 6       ReLU     MP(KSP):2 2 v    156        \n",
      "L2_CONV          14 14 6       KSP: 5 1 v               5 5 16        ReLU     MP(KSP):2 2 v    2,416      \n",
      "L3_FC            5 5 16                                 120           ReLU                      48,120     \n",
      "L4_FC            120                                    84            ReLU                      10,164     \n",
      "L5_FC            84                                     1             ReLU                      85         \n",
      "OUT_REG          1                                      1             None                      0          \n",
      "---------------------------------------------------------------------------------------------------------\n",
      "                                                                  Total Number of parameters: 60,941     \n",
      "\n",
      "Network configuration:\n",
      "  Input:                     Monochrome images of size 28x28\n",
      "  Output:                    Predicted scaler values.\n",
      "  Network Layers:            7\n",
      "  Tower Devices:             GPU0\n",
      "  Total Network Parameters:  60,941\n",
      "  Total Parameter Tensors:   10\n",
      "  Trainable Tensors:         10\n",
      "  Training Samples:          60,000\n",
      "  Test Samples:              10,000\n",
      "  Num Epochs:                10\n",
      "  Batch Size:                128\n",
      "  L2 Reg. Factor:            0.0001\n",
      "  Global Drop Rate:          0   \n",
      "  Learning Rate: (Exponential Decay)\n",
      "    Initial Value:           0.001        \n",
      "    Final Value:             0.0001       \n",
      "  Optimizer:                 Adam\n",
      "\n",
      "+--------+---------+---------------+-----------+-------------------+\n",
      "| Epoch  | Batch   | Learning Rate | Loss      | Valid/Test MSE    |\n",
      "+--------+---------+---------------+-----------+-------------------+\n",
      "| 1      | 468     | 0.00081450626 | 2.9314327 | N/A      1.052    |\n",
      "| 2      | 937     | 0.00063024933 | 0.8482579 | N/A      0.660    |\n",
      "| 3      | 1406    | 0.00051334203 | 0.5727691 | N/A      0.509    |\n",
      "| 4      | 1875    | 0.00039721426 | 0.455118  | N/A      0.437    |\n",
      "| 5      | 2344    | 0.00032353346 | 0.3898018 | N/A      0.395    |\n",
      "| 6      | 2813    | 0.00025034402 | 0.3470113 | N/A      0.362    |\n",
      "| 7      | 3282    | 0.00020390675 | 0.3126484 | N/A      0.336    |\n",
      "| 8      | 3751    | 0.00015777916 | 0.2877982 | N/A      0.330    |\n",
      "| 9      | 4220    | 0.00012851211 | 0.2702393 | N/A      0.321    |\n",
      "| 10     | 4689    | 0.00009944021 | 0.2566446 | N/A      0.298    |\n",
      "+--------+---------+---------------+-----------+-------------------+\n",
      "Total Training Time: 18.92 Seconds\n"
     ]
    }
   ],
   "source": [
    "# Here we define a \"Regression LeNet-5\" network which has 2 convolutional layers followed by 3 fully connected\n",
    "layersInfo = ('IMG_S28_D1,' +                 # The input layer takes a 28x28 image of depth 1 (monochrome)\n",
    "              'CONV_K5_O6_Ps:ReLU:MP_K2,' +   # Conv, Kernel size 5, 6 out channels, \"same\" padding, ReLU, Max pool\n",
    "              'CONV_K5_O16_Pv:ReLU:MP_K2,' +  # Conv, Kernel size 5, 16 out channels, \"valid\" padding, ReLU, Max pool\n",
    "              'FC_O120:ReLU,FC_O84:ReLU,FC_O1:ReLU,' +   # 3 fully connected layers\n",
    "              'REG')                          # Unlike original LeNet-5, the output is just a float32 number\n",
    "\n",
    "model = Model(name='RegMnistTest',\n",
    "              layersInfo=layersInfo,\n",
    "              trainDs=trainDs, testDs=testDs, # Train and test datasets (RegMnistDSet) are given to the model\n",
    "              numEpochs=10,\n",
    "              regFactor=0.0001,\n",
    "              learningRate=(0.001,0.0001),\n",
    "              optimizer=\"Adam\",\n",
    "              gpus=\"0\")\n",
    "\n",
    "model.printLayersInfo()\n",
    "model.printNetConfig()\n",
    "model.initSession()\n",
    "model.train()\n",
    "model.save(\"Models/RegMnist.fbm\")"
   ]
  },
  {
   "cell_type": "markdown",
   "metadata": {},
   "source": [
    "## Running inference on the trained model\n",
    "Here we run inference on random samples from the test dataset. Run this several times and see the difference between the actual digit and the predicted value."
   ]
  },
  {
   "cell_type": "code",
   "execution_count": 3,
   "metadata": {},
   "outputs": [
    {
     "name": "stdout",
     "output_type": "stream",
     "text": [
      "Actual label of the sample no 2468 in the dataset: 6\n",
      "Predicted Value: 5.940730\n"
     ]
    }
   ],
   "source": [
    "i = np.random.randint(testDs.numSamples)\n",
    "print( \"Actual label of the sample no %d in the dataset: %d\"%(i, testDs.labels[i]))\n",
    "print( \"Predicted Value: %f\"%(model.inferOne(testDs.samples[i])))"
   ]
  },
  {
   "cell_type": "markdown",
   "metadata": {},
   "source": [
    "## Evaluating the model\n",
    "We can now call the [evaluate](https://interdigitalinc.github.io/Fireball/html/source/model.html#fireball.model.Model.evaluate) function of the Fireball model to evaluate it as a regression problem.\n"
   ]
  },
  {
   "cell_type": "code",
   "execution_count": 4,
   "metadata": {},
   "outputs": [
    {
     "name": "stdout",
     "output_type": "stream",
     "text": [
      "  Processed 10000 Sample. (Time: 0.13 Sec.)                              \n",
      "\n",
      "MSE:  0.298057\n",
      "RMSE: 0.545946\n",
      "MAE:  0.261258\n"
     ]
    }
   ],
   "source": [
    "Results = model.evaluate()"
   ]
  },
  {
   "cell_type": "markdown",
   "metadata": {},
   "source": [
    "## Also look at\n",
    "[Handwritten Digit recognition (LeNet-5/MNIST)](LeNet5/LeNet5-MNIST.ipynb)\n",
    "\n",
    "[Reducing number of parameters of LeNet-5 Model](LeNet5-MNIST-Reduce.ipynb)\n",
    "\n",
    "[Quantizing the LeNet-5 Model](LeNet5-MNIST-Quantize.ipynb)\n",
    "\n",
    "[Exporting LeNet-5 Model to ONNX](LeNet5-MNIST-ONNX.ipynb)\n",
    "\n",
    "[Exporting LeNet-5 Model to CoreML](LeNet5-MNIST-CoreML.ipynb)\n",
    "\n",
    "[Exporting LeNet-5 Model to TensorFlow](LeNet5-MNIST-TF.ipynb)\n",
    "\n",
    "---\n",
    "\n",
    "[Fireball Playgrounds](../Contents.ipynb)\n"
   ]
  },
  {
   "cell_type": "code",
   "execution_count": null,
   "metadata": {},
   "outputs": [],
   "source": []
  }
 ],
 "metadata": {
  "kernelspec": {
   "display_name": "Python 3 (ipykernel)",
   "language": "python",
   "name": "python3"
  },
  "language_info": {
   "codemirror_mode": {
    "name": "ipython",
    "version": 3
   },
   "file_extension": ".py",
   "mimetype": "text/x-python",
   "name": "python",
   "nbconvert_exporter": "python",
   "pygments_lexer": "ipython3",
   "version": "3.8.10"
  }
 },
 "nbformat": 4,
 "nbformat_minor": 4
}
