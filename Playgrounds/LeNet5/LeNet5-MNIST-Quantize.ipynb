{
 "cells": [
  {
   "cell_type": "markdown",
   "metadata": {},
   "source": [
    "# Quantizing LeNet-5 model\n",
    "This notebook shows how to quantize a pre-trained Fireball model using Codebook Quantization. It assumes \n",
    "that a trained LeNet-5 model already exists in the ```Models``` directory. You can use the notebook\n",
    "[Handwritten Digit recognition (LeNet-5/MNIST)](LeNet5-MNIST.ipynb) to create and train a LeNet-5 model.\n",
    "\n",
    "If you want to quantize a Low-Rank model, you can use [this](LeNet5-MNIST-Reduce.ipynb) notebook\n",
    "to reduce the number of parameters in LeNet-5.\n",
    "\n",
    "Model quantization reduces the size of the model by using less number of bits for each floating \n",
    "point parameter. Fireball uses a codebook quantization method based on K-Means clustering algorithm.\n",
    "\n",
    "[quantizeModel](https://interdigitalinc.github.io/Fireball/html/source/model.html#fireball.model.Model.quantizeModel) is a class method that receives the file names of input and output to the \n",
    "quantization process. It also receives the quantization parameters such as ```minBits```, ```maxBits```, \n",
    "and ```mseUb```.\n",
    "\n",
    "Fireball can create models with 2-bit to 12-bit quantization (Codebook sizes 4 to 4096). For the quantized\n",
    "model to be compatible with [CoreML](https://developer.apple.com/documentation/coreml), we need to make sure the codebook size is a power of 2, less than or equal to 256, and only \"weight\" parameters are quantized (not biases)\n"
   ]
  },
  {
   "cell_type": "markdown",
   "metadata": {},
   "source": [
    "## Quantizing a pretrained model\n",
    "The code in the following cell quantizes the model specified by ```orgFileName``` and creates a\n",
    "new quantized model.\n",
    "\n",
    "For each parameter tensor of the model, we try quantization bits 2 to 8 and find the best quantization\n",
    "that satisfies the specified MSE value.\n",
    "\n",
    "To get better quantization (smaller model) increase ```mse```; to get better performance (larger model)\n",
    "use a smaller ```mse```."
   ]
  },
  {
   "cell_type": "code",
   "execution_count": 1,
   "metadata": {},
   "outputs": [
    {
     "name": "stdout",
     "output_type": "stream",
     "text": [
      "\n",
      "Reading model parameters from \"Models/LeNet5RRPR.fbm\" ... Done.\n",
      "Quantizing 13 tensors ... \n",
      "   Quantization Parameters:\n",
      "        mseUb .............. 0.001\n",
      "        pdfFactor .......... 0.1\n",
      "        reuseEmptyClusters . True\n",
      "        weightsOnly ........ True\n",
      "        minBits ............ 2\n",
      "        maxBits ............ 8\n",
      "    Tensor 1 of 13 Shape: 5x5x1x6 ........... Quantized. (16 clusters - MSE: 0.0006)\n",
      "    Tensor 2 of 13 Shape: 6 ................. Ignored. (1-D Tensor)\n",
      "    Tensor 3 of 13 Shape: 5x5x6x8 ........... Quantized. (16 clusters - MSE: 0.0007)\n",
      "    Tensor 4 of 13 Shape: 1x1x8x16 .......... Quantized. (32 clusters - MSE: 0.0002)\n",
      "    Tensor 5 of 13 Shape: 16 ................ Ignored. (1-D Tensor)\n",
      "    Tensor 6 of 13 Shape: 400x8 ............. Quantized. (16 clusters - MSE: 0.0010)\n",
      "    Tensor 7 of 13 Shape: 8x120 ............. Quantized. (32 clusters - MSE: 0.0002)\n",
      "    Tensor 8 of 13 Shape: 120 ............... Ignored. (1-D Tensor)\n",
      "    Tensor 9 of 13 Shape: 120x8 ............. Quantized. (16 clusters - MSE: 0.0006)\n",
      "    Tensor 10 of 13 Shape: 8x84 ............. Quantized. (16 clusters - MSE: 0.0006)\n",
      "    Tensor 11 of 13 Shape: 84 ............... Ignored. (1-D Tensor)\n",
      "    Tensor 12 of 13 Shape: 84x10 ............ Quantized. (32 clusters - MSE: 0.0003)\n",
      "    Tensor 13 of 13 Shape: 10 ............... Ignored. (1-D Tensor)\n",
      "Quantization complete (0.09 Sec.)\n",
      "Now saving to \"Models/LeNet5RRPRQ.fbm\" ... Done.\n",
      "\n",
      "Size of Data: 20,363 -> 7,321 bytes\n",
      "Model File Size: 21,789 -> 8,963 bytes\n"
     ]
    }
   ],
   "source": [
    "from fireball import Model\n",
    "\n",
    "orgFileName = \"Models/LeNet5RRPR.fbm\"    # Reduced - Retrained - Pruned - Retrained\n",
    "\n",
    "quantizedFileName = orgFileName.replace('.fbm', 'Q.fbm')  # Append 'Q' to the filename for \"Quantized\"\n",
    "\n",
    "# quantizing the model\n",
    "qResults = Model.quantizeModel(orgFileName, quantizedFileName, \n",
    "                               mseUb=.001, minBits=2, maxBits=8, reuseEmptyClusters=True, weightsOnly=True,\n",
    "                               quiet=False, verbose=True, numWorkers=0)"
   ]
  },
  {
   "cell_type": "markdown",
   "metadata": {},
   "source": [
    "Compare the data and file sizes before and after quantization.\n",
    "## Evaluate the quantized model"
   ]
  },
  {
   "cell_type": "code",
   "execution_count": 2,
   "metadata": {},
   "outputs": [
    {
     "name": "stdout",
     "output_type": "stream",
     "text": [
      "\n",
      "Reading from \"Models/LeNet5RRPRQ.fbm\" ... Done.\n",
      "Creating the fireball model \"LeNet-5\" ... Done.\n",
      "  Processed 10000 Sample. (Time: 1.67 Sec.)                              \n",
      "\n",
      "Observed Accuracy:  0.9894\n",
      "Expected Accuracy: 0.100355\n",
      "Kappa: 0.988218 (Excellent)\n"
     ]
    }
   ],
   "source": [
    "from fireball.datasets.mnist import MnistDSet\n",
    "\n",
    "testDs = MnistDSet.makeDatasets('test', batchSize=128)\n",
    "\n",
    "model = Model.makeFromFile(quantizedFileName, testDs=testDs, gpus='0')   \n",
    "model.initSession()\n",
    "\n",
    "results = model.evaluate()"
   ]
  },
  {
   "cell_type": "markdown",
   "metadata": {},
   "source": [
    "## Re-training after quantization\n",
    "Fireball can retrain the quantized models by modifying (learning) the quantization codebooks. The following cell creates a \"tune\" dataset by sampling from the training dataset and uses it to \"fine-tune\" the quantized model for 5 epochs. The re-trained model is then evaluated and saved to the ```Models``` directory."
   ]
  },
  {
   "cell_type": "code",
   "execution_count": 3,
   "metadata": {},
   "outputs": [
    {
     "name": "stdout",
     "output_type": "stream",
     "text": [
      "MnistDSet Dataset Info:\n",
      "    Dataset Name ................................... tune\n",
      "    Dataset Location ............................... /data/mnist/\n",
      "    Number of Classes .............................. 10\n",
      "    Number of Samples .............................. 10800\n",
      "    Sample Shape ................................... (28, 28, 1)\n",
      "\n",
      "\n",
      "Reading from \"Models/LeNet5RRPRQ.fbm\" ... Done.\n",
      "Creating the fireball model \"LeNet-5\" ... Done.\n",
      "+--------+---------+---------------+-----------+-------------------+\n",
      "| Epoch  | Batch   | Learning Rate | Loss      | Valid/Test Error  |\n",
      "+--------+---------+---------------+-----------+-------------------+\n",
      "| 1      | 84      | 0.00034056156 | 0.0161217 |    1.50% N/A      |\n",
      "| 2      | 169     | 0.00011598216 | 0.0135505 |    1.58% N/A      |\n",
      "| 3      | 254     | 0.00003949906 | 0.0128184 |    1.58% N/A      |\n",
      "| 4      | 339     | 0.00001345186 | 0.0126654 |    1.58% N/A      |\n",
      "| 5      | 424     | 0.00000435213 | 0.012674  |    1.58% N/A      |\n",
      "+--------+---------+---------------+-----------+-------------------+\n",
      "Total Training Time: 2.61 Seconds\n",
      "  Processed 10000 Sample. (Time: 0.14 Sec.)                              \n",
      "\n",
      "Observed Accuracy:  0.99\n",
      "Expected Accuracy: 0.100348\n",
      "Kappa: 0.988885 (Excellent)\n"
     ]
    }
   ],
   "source": [
    "tuneDs,validDs = MnistDSet.makeDatasets('tune,valid', batchSize=128)\n",
    "print(tuneDs)\n",
    "\n",
    "model = Model.makeFromFile(quantizedFileName, \n",
    "                           trainDs=tuneDs, validationDs=validDs, # Use the \"tuneDs\" for training\n",
    "                           numEpochs=5,\n",
    "                           learningRate=(1e-3,1e-5),\n",
    "                           optimizer=\"Momentum\",\n",
    "#                            gpus=[-1])\n",
    "                           gpus=\"0\")\n",
    "model.initSession()\n",
    "model.train()\n",
    "\n",
    "model.evaluateDSet(testDs)\n",
    "\n",
    "retrainedFileName = quantizedFileName.replace('.fbm', 'R.fbm')  # Append 'R' to the filename for \"Re-trained\"\n",
    "model.save(retrainedFileName)   # Save the re-trained model to the \"Models\" directory"
   ]
  },
  {
   "cell_type": "markdown",
   "metadata": {},
   "source": [
    "## Also look at\n",
    "\n",
    "[Exporting LeNet-5 Model to ONNX](LeNet5-MNIST-ONNX.ipynb)\n",
    "\n",
    "[Exporting LeNet-5 Model to TensorFlow](LeNet5-MNIST-TF.ipynb)\n",
    "\n",
    "[Exporting LeNet-5 Model to CoreML](LeNet5-MNIST-CoreML.ipynb)\n",
    "\n",
    "[Hand-written Digit Recognition as a Regression problem](Regression.ipynb)\n",
    "\n",
    "---\n",
    "\n",
    "[Fireball Playgrounds](../Contents.ipynb)\n",
    "\n",
    "[Handwritten Digit Recognition (LeNet-5/MNIST)](LeNet5-MNIST.ipynb)\n",
    "\n",
    "[Reducing number of parameters of LeNet-5 Model](LeNet5-MNIST-Reduce.ipynb)\n",
    "\n",
    "[Pruning LeNet-5 Model](LeNet5-MNIST-Prune.ipynb)\n"
   ]
  },
  {
   "cell_type": "code",
   "execution_count": null,
   "metadata": {},
   "outputs": [],
   "source": []
  }
 ],
 "metadata": {
  "kernelspec": {
   "display_name": "Python 3 (ipykernel)",
   "language": "python",
   "name": "python3"
  },
  "language_info": {
   "codemirror_mode": {
    "name": "ipython",
    "version": 3
   },
   "file_extension": ".py",
   "mimetype": "text/x-python",
   "name": "python",
   "nbconvert_exporter": "python",
   "pygments_lexer": "ipython3",
   "version": "3.9.16"
  }
 },
 "nbformat": 4,
 "nbformat_minor": 4
}
