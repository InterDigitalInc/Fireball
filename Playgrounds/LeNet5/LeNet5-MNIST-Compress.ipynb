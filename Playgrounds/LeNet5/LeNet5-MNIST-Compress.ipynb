{
 "cells": [
  {
   "cell_type": "markdown",
   "metadata": {},
   "source": [
    "# Compressing LeNet-5 model\n",
    "This notebook shows how to compress a pre-trained Fireball model using arithmetic entropy coding. It assumes \n",
    "that a trained LeNet-5 model already exists in the ```Models``` directory. You can use the notebook\n",
    "[Handwritten Digit recognition (LeNet-5/MNIST)](LeNet5-MNIST.ipynb) to create and train a LeNet-5 model.\n",
    "\n",
    "Fireball reduces the size of model file by applying entropy coding on the model parameters. ```compressModel``` is a class method that receives the file names of input and output to the \n",
    "compression process.\n",
    "\n",
    "The code in the following cell compresses the model specified by ```orgFileName``` and creates a\n",
    "new compressed model file (A ``*.fbmc`` file).\n",
    "\n",
    "Please note that this compression process is **lossless**. So the model performance is not affected by this process."
   ]
  },
  {
   "cell_type": "code",
   "execution_count": 1,
   "metadata": {},
   "outputs": [
    {
     "name": "stdout",
     "output_type": "stream",
     "text": [
      "\n",
      "Reading model parameters from \"Models/LeNet5RRPRQR.fbm\" ... Done.\n",
      "Compressing 13 tensors ... \n",
      "    Tensor 1 of 13 Shape: 5x5x1x6 ........... Compressed. (182 -> 127 bytes)\n",
      "    Tensor 2 of 13 Shape: 6 ................. Compressed. (22 -> 22 bytes)\n",
      "    Tensor 3 of 13 Shape: 5x5x6x8 ........... Compressed. (930 -> 493 bytes)\n",
      "    Tensor 4 of 13 Shape: 1x1x8x16 .......... Compressed. (199 -> 158 bytes)\n",
      "    Tensor 5 of 13 Shape: 16 ................ Compressed. (36 -> 29 bytes)\n",
      "    Tensor 6 of 13 Shape: 400x8 ............. Compressed. (2250 -> 1189 bytes)\n",
      "    Tensor 7 of 13 Shape: 8x120 ............. Compressed. (803 -> 466 bytes)\n",
      "    Tensor 8 of 13 Shape: 120 ............... Compressed. (148 -> 60 bytes)\n",
      "    Tensor 9 of 13 Shape: 120x8 ............. Compressed. (673 -> 370 bytes)\n",
      "    Tensor 10 of 13 Shape: 8x84 ............. Compressed. (555 -> 319 bytes)\n",
      "    Tensor 11 of 13 Shape: 84 ............... Compressed. (124 -> 78 bytes)\n",
      "    Tensor 12 of 13 Shape: 84x10 ............ Compressed. (719 -> 424 bytes)\n",
      "    Tensor 13 of 13 Shape: 10 ............... Compressed. (34 -> 33 bytes)\n",
      "Finished compressing model parameters (0.66 Sec.)\n",
      "Now saving to \"Models/LeNet5RRPRQR.fbmc\" ... Done.\n",
      "Model File Size: 8,466 -> 5,027 bytes\n"
     ]
    }
   ],
   "source": [
    "from fireball import Model\n",
    "\n",
    "# orgFileName = \"Models/LeNet5RRQR.fbm\"    # Reduced - Retrained - Quantized - Retrained\n",
    "orgFileName = \"Models/LeNet5RRPRQR.fbm\"  # Reduced - Retrained - Pruned - Retrained - Quantized - Retrained\n",
    "\n",
    "compressedFileName = orgFileName.replace('.fbm', '.fbmc')\n",
    "\n",
    "# quantizing the model\n",
    "qResults = Model.compressModel(orgFileName, compressedFileName,\n",
    "                               quiet=False, verbose=True, numWorkers=0)"
   ]
  },
  {
   "cell_type": "markdown",
   "metadata": {},
   "source": [
    "Compare the file sizes before and after compression.\n",
    "## Evaluate the compressed model"
   ]
  },
  {
   "cell_type": "code",
   "execution_count": 5,
   "metadata": {},
   "outputs": [
    {
     "name": "stdout",
     "output_type": "stream",
     "text": [
      "\n",
      "Reading from \"Models/LeNet5RRPRQR.fbmc\" ... \n",
      "    Decompressed 13 tensors.              \n",
      "Done.\n",
      "Creating the fireball model \"LeNet-5\" ... Done.\n",
      "  Processed 10000 Sample. (Time: 1.11 Sec.)                              \n",
      "\n",
      "Observed Accuracy: 0.988600\n",
      "Expected Accuracy: 0.100347\n",
      "Kappa: 0.987328 (Excellent)\n"
     ]
    }
   ],
   "source": [
    "from fireball import Model\n",
    "\n",
    "from fireball.datasets.mnist import MnistDSet\n",
    "\n",
    "testDs = MnistDSet.makeDatasets('test', batchSize=128)\n",
    "\n",
    "model = Model.makeFromFile(compressedFileName, testDs=testDs, gpus='0')   \n",
    "model.initSession()\n",
    "\n",
    "results = model.evaluate()"
   ]
  },
  {
   "cell_type": "markdown",
   "metadata": {},
   "source": [
    "## Where do I go from here?\n",
    "\n",
    "[Exporting LeNet-5 Model to ONNX](LeNet5-MNIST-ONNX.ipynb)\n",
    "\n",
    "[Exporting LeNet-5 Model to TensorFlow](LeNet5-MNIST-TF.ipynb)\n",
    "\n",
    "[Exporting LeNet-5 Model to CoreML](LeNet5-MNIST-CoreML.ipynb)\n",
    "\n",
    "[Hand-written Digit Recognition as a Regression problem](Regression.ipynb)\n",
    "\n",
    "---\n",
    "\n",
    "[Fireball Playgrounds](../Contents.ipynb)\n",
    "\n",
    "[Handwritten Digit Recognition (LeNet-5/MNIST)](LeNet5-MNIST.ipynb)\n",
    "\n",
    "[Reducing number of parameters of LeNet-5 Model](LeNet5-MNIST-Reduce.ipynb)\n",
    "\n",
    "[Pruning LeNet-5 Model](LeNet5-MNIST-Prune.ipynb)\n"
   ]
  }
 ],
 "metadata": {
  "kernelspec": {
   "display_name": "Python 3",
   "language": "python",
   "name": "python3"
  },
  "language_info": {
   "codemirror_mode": {
    "name": "ipython",
    "version": 3
   },
   "file_extension": ".py",
   "mimetype": "text/x-python",
   "name": "python",
   "nbconvert_exporter": "python",
   "pygments_lexer": "ipython3",
   "version": "3.7.9"
  }
 },
 "nbformat": 4,
 "nbformat_minor": 4
}
